{
 "cells": [
  {
   "cell_type": "code",
   "execution_count": 1,
   "id": "67675955",
   "metadata": {},
   "outputs": [],
   "source": [
    "import pandas as pd\n",
    "import numpy as np\n",
    "import seaborn as sns\n",
    "import matplotlib.pyplot as plt\n",
    "\n",
    "import warnings\n",
    "warnings.filterwarnings('ignore')"
   ]
  },
  {
   "cell_type": "code",
   "execution_count": 2,
   "id": "684a5f55",
   "metadata": {},
   "outputs": [
    {
     "data": {
      "text/html": [
       "<div>\n",
       "<style scoped>\n",
       "    .dataframe tbody tr th:only-of-type {\n",
       "        vertical-align: middle;\n",
       "    }\n",
       "\n",
       "    .dataframe tbody tr th {\n",
       "        vertical-align: top;\n",
       "    }\n",
       "\n",
       "    .dataframe thead th {\n",
       "        text-align: right;\n",
       "    }\n",
       "</style>\n",
       "<table border=\"1\" class=\"dataframe\">\n",
       "  <thead>\n",
       "    <tr style=\"text-align: right;\">\n",
       "      <th></th>\n",
       "      <th>AT</th>\n",
       "      <th>AP</th>\n",
       "      <th>AH</th>\n",
       "      <th>AFDP</th>\n",
       "      <th>GTEP</th>\n",
       "      <th>TIT</th>\n",
       "      <th>TAT</th>\n",
       "      <th>TEY</th>\n",
       "      <th>CDP</th>\n",
       "      <th>CO</th>\n",
       "      <th>NOX</th>\n",
       "    </tr>\n",
       "  </thead>\n",
       "  <tbody>\n",
       "    <tr>\n",
       "      <th>0</th>\n",
       "      <td>6.8594</td>\n",
       "      <td>1007.9</td>\n",
       "      <td>96.799</td>\n",
       "      <td>3.5000</td>\n",
       "      <td>19.663</td>\n",
       "      <td>1059.2</td>\n",
       "      <td>550.00</td>\n",
       "      <td>114.70</td>\n",
       "      <td>10.605</td>\n",
       "      <td>3.1547</td>\n",
       "      <td>82.722</td>\n",
       "    </tr>\n",
       "    <tr>\n",
       "      <th>1</th>\n",
       "      <td>6.7850</td>\n",
       "      <td>1008.4</td>\n",
       "      <td>97.118</td>\n",
       "      <td>3.4998</td>\n",
       "      <td>19.728</td>\n",
       "      <td>1059.3</td>\n",
       "      <td>550.00</td>\n",
       "      <td>114.72</td>\n",
       "      <td>10.598</td>\n",
       "      <td>3.2363</td>\n",
       "      <td>82.776</td>\n",
       "    </tr>\n",
       "    <tr>\n",
       "      <th>2</th>\n",
       "      <td>6.8977</td>\n",
       "      <td>1008.8</td>\n",
       "      <td>95.939</td>\n",
       "      <td>3.4824</td>\n",
       "      <td>19.779</td>\n",
       "      <td>1059.4</td>\n",
       "      <td>549.87</td>\n",
       "      <td>114.71</td>\n",
       "      <td>10.601</td>\n",
       "      <td>3.2012</td>\n",
       "      <td>82.468</td>\n",
       "    </tr>\n",
       "    <tr>\n",
       "      <th>3</th>\n",
       "      <td>7.0569</td>\n",
       "      <td>1009.2</td>\n",
       "      <td>95.249</td>\n",
       "      <td>3.4805</td>\n",
       "      <td>19.792</td>\n",
       "      <td>1059.6</td>\n",
       "      <td>549.99</td>\n",
       "      <td>114.72</td>\n",
       "      <td>10.606</td>\n",
       "      <td>3.1923</td>\n",
       "      <td>82.670</td>\n",
       "    </tr>\n",
       "    <tr>\n",
       "      <th>4</th>\n",
       "      <td>7.3978</td>\n",
       "      <td>1009.7</td>\n",
       "      <td>95.150</td>\n",
       "      <td>3.4976</td>\n",
       "      <td>19.765</td>\n",
       "      <td>1059.7</td>\n",
       "      <td>549.98</td>\n",
       "      <td>114.72</td>\n",
       "      <td>10.612</td>\n",
       "      <td>3.2484</td>\n",
       "      <td>82.311</td>\n",
       "    </tr>\n",
       "    <tr>\n",
       "      <th>...</th>\n",
       "      <td>...</td>\n",
       "      <td>...</td>\n",
       "      <td>...</td>\n",
       "      <td>...</td>\n",
       "      <td>...</td>\n",
       "      <td>...</td>\n",
       "      <td>...</td>\n",
       "      <td>...</td>\n",
       "      <td>...</td>\n",
       "      <td>...</td>\n",
       "      <td>...</td>\n",
       "    </tr>\n",
       "    <tr>\n",
       "      <th>15034</th>\n",
       "      <td>9.0301</td>\n",
       "      <td>1005.6</td>\n",
       "      <td>98.460</td>\n",
       "      <td>3.5421</td>\n",
       "      <td>19.164</td>\n",
       "      <td>1049.7</td>\n",
       "      <td>546.21</td>\n",
       "      <td>111.61</td>\n",
       "      <td>10.400</td>\n",
       "      <td>4.5186</td>\n",
       "      <td>79.559</td>\n",
       "    </tr>\n",
       "    <tr>\n",
       "      <th>15035</th>\n",
       "      <td>7.8879</td>\n",
       "      <td>1005.9</td>\n",
       "      <td>99.093</td>\n",
       "      <td>3.5059</td>\n",
       "      <td>19.414</td>\n",
       "      <td>1046.3</td>\n",
       "      <td>543.22</td>\n",
       "      <td>111.78</td>\n",
       "      <td>10.433</td>\n",
       "      <td>4.8470</td>\n",
       "      <td>79.917</td>\n",
       "    </tr>\n",
       "    <tr>\n",
       "      <th>15036</th>\n",
       "      <td>7.2647</td>\n",
       "      <td>1006.3</td>\n",
       "      <td>99.496</td>\n",
       "      <td>3.4770</td>\n",
       "      <td>19.530</td>\n",
       "      <td>1037.7</td>\n",
       "      <td>537.32</td>\n",
       "      <td>110.19</td>\n",
       "      <td>10.483</td>\n",
       "      <td>7.9632</td>\n",
       "      <td>90.912</td>\n",
       "    </tr>\n",
       "    <tr>\n",
       "      <th>15037</th>\n",
       "      <td>7.0060</td>\n",
       "      <td>1006.8</td>\n",
       "      <td>99.008</td>\n",
       "      <td>3.4486</td>\n",
       "      <td>19.377</td>\n",
       "      <td>1043.2</td>\n",
       "      <td>541.24</td>\n",
       "      <td>110.74</td>\n",
       "      <td>10.533</td>\n",
       "      <td>6.2494</td>\n",
       "      <td>93.227</td>\n",
       "    </tr>\n",
       "    <tr>\n",
       "      <th>15038</th>\n",
       "      <td>6.9279</td>\n",
       "      <td>1007.2</td>\n",
       "      <td>97.533</td>\n",
       "      <td>3.4275</td>\n",
       "      <td>19.306</td>\n",
       "      <td>1049.9</td>\n",
       "      <td>545.85</td>\n",
       "      <td>111.58</td>\n",
       "      <td>10.583</td>\n",
       "      <td>4.9816</td>\n",
       "      <td>92.498</td>\n",
       "    </tr>\n",
       "  </tbody>\n",
       "</table>\n",
       "<p>15039 rows × 11 columns</p>\n",
       "</div>"
      ],
      "text/plain": [
       "           AT      AP      AH    AFDP    GTEP     TIT     TAT     TEY     CDP  \\\n",
       "0      6.8594  1007.9  96.799  3.5000  19.663  1059.2  550.00  114.70  10.605   \n",
       "1      6.7850  1008.4  97.118  3.4998  19.728  1059.3  550.00  114.72  10.598   \n",
       "2      6.8977  1008.8  95.939  3.4824  19.779  1059.4  549.87  114.71  10.601   \n",
       "3      7.0569  1009.2  95.249  3.4805  19.792  1059.6  549.99  114.72  10.606   \n",
       "4      7.3978  1009.7  95.150  3.4976  19.765  1059.7  549.98  114.72  10.612   \n",
       "...       ...     ...     ...     ...     ...     ...     ...     ...     ...   \n",
       "15034  9.0301  1005.6  98.460  3.5421  19.164  1049.7  546.21  111.61  10.400   \n",
       "15035  7.8879  1005.9  99.093  3.5059  19.414  1046.3  543.22  111.78  10.433   \n",
       "15036  7.2647  1006.3  99.496  3.4770  19.530  1037.7  537.32  110.19  10.483   \n",
       "15037  7.0060  1006.8  99.008  3.4486  19.377  1043.2  541.24  110.74  10.533   \n",
       "15038  6.9279  1007.2  97.533  3.4275  19.306  1049.9  545.85  111.58  10.583   \n",
       "\n",
       "           CO     NOX  \n",
       "0      3.1547  82.722  \n",
       "1      3.2363  82.776  \n",
       "2      3.2012  82.468  \n",
       "3      3.1923  82.670  \n",
       "4      3.2484  82.311  \n",
       "...       ...     ...  \n",
       "15034  4.5186  79.559  \n",
       "15035  4.8470  79.917  \n",
       "15036  7.9632  90.912  \n",
       "15037  6.2494  93.227  \n",
       "15038  4.9816  92.498  \n",
       "\n",
       "[15039 rows x 11 columns]"
      ]
     },
     "execution_count": 2,
     "metadata": {},
     "output_type": "execute_result"
    }
   ],
   "source": [
    "gas = pd.read_csv(\"gas_turbines.csv\")\n",
    "gas"
   ]
  },
  {
   "cell_type": "code",
   "execution_count": 3,
   "id": "141c85be",
   "metadata": {},
   "outputs": [
    {
     "name": "stdout",
     "output_type": "stream",
     "text": [
      "<class 'pandas.core.frame.DataFrame'>\n",
      "RangeIndex: 15039 entries, 0 to 15038\n",
      "Data columns (total 11 columns):\n",
      " #   Column  Non-Null Count  Dtype  \n",
      "---  ------  --------------  -----  \n",
      " 0   AT      15039 non-null  float64\n",
      " 1   AP      15039 non-null  float64\n",
      " 2   AH      15039 non-null  float64\n",
      " 3   AFDP    15039 non-null  float64\n",
      " 4   GTEP    15039 non-null  float64\n",
      " 5   TIT     15039 non-null  float64\n",
      " 6   TAT     15039 non-null  float64\n",
      " 7   TEY     15039 non-null  float64\n",
      " 8   CDP     15039 non-null  float64\n",
      " 9   CO      15039 non-null  float64\n",
      " 10  NOX     15039 non-null  float64\n",
      "dtypes: float64(11)\n",
      "memory usage: 1.3 MB\n"
     ]
    }
   ],
   "source": [
    "gas.info()"
   ]
  },
  {
   "cell_type": "code",
   "execution_count": 4,
   "id": "a7735f39",
   "metadata": {},
   "outputs": [
    {
     "data": {
      "text/plain": [
       "(15039, 11)"
      ]
     },
     "execution_count": 4,
     "metadata": {},
     "output_type": "execute_result"
    }
   ],
   "source": [
    "gas.shape"
   ]
  },
  {
   "cell_type": "code",
   "execution_count": 5,
   "id": "22d9d4a2",
   "metadata": {},
   "outputs": [
    {
     "data": {
      "text/html": [
       "<div>\n",
       "<style scoped>\n",
       "    .dataframe tbody tr th:only-of-type {\n",
       "        vertical-align: middle;\n",
       "    }\n",
       "\n",
       "    .dataframe tbody tr th {\n",
       "        vertical-align: top;\n",
       "    }\n",
       "\n",
       "    .dataframe thead th {\n",
       "        text-align: right;\n",
       "    }\n",
       "</style>\n",
       "<table border=\"1\" class=\"dataframe\">\n",
       "  <thead>\n",
       "    <tr style=\"text-align: right;\">\n",
       "      <th></th>\n",
       "      <th>0</th>\n",
       "      <th>1</th>\n",
       "      <th>2</th>\n",
       "      <th>3</th>\n",
       "      <th>4</th>\n",
       "    </tr>\n",
       "  </thead>\n",
       "  <tbody>\n",
       "    <tr>\n",
       "      <th>AT</th>\n",
       "      <td>6.8594</td>\n",
       "      <td>6.7850</td>\n",
       "      <td>6.8977</td>\n",
       "      <td>7.0569</td>\n",
       "      <td>7.3978</td>\n",
       "    </tr>\n",
       "    <tr>\n",
       "      <th>AP</th>\n",
       "      <td>1007.9000</td>\n",
       "      <td>1008.4000</td>\n",
       "      <td>1008.8000</td>\n",
       "      <td>1009.2000</td>\n",
       "      <td>1009.7000</td>\n",
       "    </tr>\n",
       "    <tr>\n",
       "      <th>AH</th>\n",
       "      <td>96.7990</td>\n",
       "      <td>97.1180</td>\n",
       "      <td>95.9390</td>\n",
       "      <td>95.2490</td>\n",
       "      <td>95.1500</td>\n",
       "    </tr>\n",
       "    <tr>\n",
       "      <th>AFDP</th>\n",
       "      <td>3.5000</td>\n",
       "      <td>3.4998</td>\n",
       "      <td>3.4824</td>\n",
       "      <td>3.4805</td>\n",
       "      <td>3.4976</td>\n",
       "    </tr>\n",
       "    <tr>\n",
       "      <th>GTEP</th>\n",
       "      <td>19.6630</td>\n",
       "      <td>19.7280</td>\n",
       "      <td>19.7790</td>\n",
       "      <td>19.7920</td>\n",
       "      <td>19.7650</td>\n",
       "    </tr>\n",
       "    <tr>\n",
       "      <th>TIT</th>\n",
       "      <td>1059.2000</td>\n",
       "      <td>1059.3000</td>\n",
       "      <td>1059.4000</td>\n",
       "      <td>1059.6000</td>\n",
       "      <td>1059.7000</td>\n",
       "    </tr>\n",
       "    <tr>\n",
       "      <th>TAT</th>\n",
       "      <td>550.0000</td>\n",
       "      <td>550.0000</td>\n",
       "      <td>549.8700</td>\n",
       "      <td>549.9900</td>\n",
       "      <td>549.9800</td>\n",
       "    </tr>\n",
       "    <tr>\n",
       "      <th>TEY</th>\n",
       "      <td>114.7000</td>\n",
       "      <td>114.7200</td>\n",
       "      <td>114.7100</td>\n",
       "      <td>114.7200</td>\n",
       "      <td>114.7200</td>\n",
       "    </tr>\n",
       "    <tr>\n",
       "      <th>CDP</th>\n",
       "      <td>10.6050</td>\n",
       "      <td>10.5980</td>\n",
       "      <td>10.6010</td>\n",
       "      <td>10.6060</td>\n",
       "      <td>10.6120</td>\n",
       "    </tr>\n",
       "    <tr>\n",
       "      <th>CO</th>\n",
       "      <td>3.1547</td>\n",
       "      <td>3.2363</td>\n",
       "      <td>3.2012</td>\n",
       "      <td>3.1923</td>\n",
       "      <td>3.2484</td>\n",
       "    </tr>\n",
       "    <tr>\n",
       "      <th>NOX</th>\n",
       "      <td>82.7220</td>\n",
       "      <td>82.7760</td>\n",
       "      <td>82.4680</td>\n",
       "      <td>82.6700</td>\n",
       "      <td>82.3110</td>\n",
       "    </tr>\n",
       "  </tbody>\n",
       "</table>\n",
       "</div>"
      ],
      "text/plain": [
       "              0          1          2          3          4\n",
       "AT       6.8594     6.7850     6.8977     7.0569     7.3978\n",
       "AP    1007.9000  1008.4000  1008.8000  1009.2000  1009.7000\n",
       "AH      96.7990    97.1180    95.9390    95.2490    95.1500\n",
       "AFDP     3.5000     3.4998     3.4824     3.4805     3.4976\n",
       "GTEP    19.6630    19.7280    19.7790    19.7920    19.7650\n",
       "TIT   1059.2000  1059.3000  1059.4000  1059.6000  1059.7000\n",
       "TAT    550.0000   550.0000   549.8700   549.9900   549.9800\n",
       "TEY    114.7000   114.7200   114.7100   114.7200   114.7200\n",
       "CDP     10.6050    10.5980    10.6010    10.6060    10.6120\n",
       "CO       3.1547     3.2363     3.2012     3.1923     3.2484\n",
       "NOX     82.7220    82.7760    82.4680    82.6700    82.3110"
      ]
     },
     "execution_count": 5,
     "metadata": {},
     "output_type": "execute_result"
    }
   ],
   "source": [
    "gas.head().T"
   ]
  },
  {
   "cell_type": "code",
   "execution_count": 6,
   "id": "363c1b00",
   "metadata": {},
   "outputs": [
    {
     "data": {
      "text/plain": [
       "Index(['AT', 'AP', 'AH', 'AFDP', 'GTEP', 'TIT', 'TAT', 'TEY', 'CDP', 'CO',\n",
       "       'NOX'],\n",
       "      dtype='object')"
      ]
     },
     "execution_count": 6,
     "metadata": {},
     "output_type": "execute_result"
    }
   ],
   "source": [
    "gas.columns"
   ]
  },
  {
   "cell_type": "code",
   "execution_count": 7,
   "id": "50f769ee",
   "metadata": {},
   "outputs": [
    {
     "data": {
      "text/plain": [
       "AT      0\n",
       "AP      0\n",
       "AH      0\n",
       "AFDP    0\n",
       "GTEP    0\n",
       "TIT     0\n",
       "TAT     0\n",
       "TEY     0\n",
       "CDP     0\n",
       "CO      0\n",
       "NOX     0\n",
       "dtype: int64"
      ]
     },
     "execution_count": 7,
     "metadata": {},
     "output_type": "execute_result"
    }
   ],
   "source": [
    "gas.isnull().sum()"
   ]
  },
  {
   "cell_type": "code",
   "execution_count": 8,
   "id": "718efee7",
   "metadata": {},
   "outputs": [
    {
     "data": {
      "text/plain": [
       "<AxesSubplot:>"
      ]
     },
     "execution_count": 8,
     "metadata": {},
     "output_type": "execute_result"
    },
    {
     "data": {
      "image/png": "[encoded data removed]",
      "text/plain": [
       "<Figure size 432x288 with 2 Axes>"
      ]
     },
     "metadata": {
      "needs_background": "light"
     },
     "output_type": "display_data"
    }
   ],
   "source": [
    "sns.heatmap(gas.isnull())"
   ]
  },
  {
   "cell_type": "code",
   "execution_count": 9,
   "id": "d1433d88",
   "metadata": {},
   "outputs": [
    {
     "data": {
      "text/html": [
       "<div>\n",
       "<style scoped>\n",
       "    .dataframe tbody tr th:only-of-type {\n",
       "        vertical-align: middle;\n",
       "    }\n",
       "\n",
       "    .dataframe tbody tr th {\n",
       "        vertical-align: top;\n",
       "    }\n",
       "\n",
       "    .dataframe thead th {\n",
       "        text-align: right;\n",
       "    }\n",
       "</style>\n",
       "<table border=\"1\" class=\"dataframe\">\n",
       "  <thead>\n",
       "    <tr style=\"text-align: right;\">\n",
       "      <th></th>\n",
       "      <th>AT</th>\n",
       "      <th>AP</th>\n",
       "      <th>AH</th>\n",
       "      <th>AFDP</th>\n",
       "      <th>GTEP</th>\n",
       "      <th>TIT</th>\n",
       "      <th>TAT</th>\n",
       "      <th>TEY</th>\n",
       "      <th>CDP</th>\n",
       "      <th>CO</th>\n",
       "      <th>NOX</th>\n",
       "    </tr>\n",
       "  </thead>\n",
       "  <tbody>\n",
       "    <tr>\n",
       "      <th>count</th>\n",
       "      <td>15039.000000</td>\n",
       "      <td>15039.00000</td>\n",
       "      <td>15039.000000</td>\n",
       "      <td>15039.000000</td>\n",
       "      <td>15039.000000</td>\n",
       "      <td>15039.000000</td>\n",
       "      <td>15039.000000</td>\n",
       "      <td>15039.000000</td>\n",
       "      <td>15039.000000</td>\n",
       "      <td>15039.000000</td>\n",
       "      <td>15039.000000</td>\n",
       "    </tr>\n",
       "    <tr>\n",
       "      <th>mean</th>\n",
       "      <td>17.764381</td>\n",
       "      <td>1013.19924</td>\n",
       "      <td>79.124174</td>\n",
       "      <td>4.200294</td>\n",
       "      <td>25.419061</td>\n",
       "      <td>1083.798770</td>\n",
       "      <td>545.396183</td>\n",
       "      <td>134.188464</td>\n",
       "      <td>12.102353</td>\n",
       "      <td>1.972499</td>\n",
       "      <td>68.190934</td>\n",
       "    </tr>\n",
       "    <tr>\n",
       "      <th>std</th>\n",
       "      <td>7.574323</td>\n",
       "      <td>6.41076</td>\n",
       "      <td>13.793439</td>\n",
       "      <td>0.760197</td>\n",
       "      <td>4.173916</td>\n",
       "      <td>16.527806</td>\n",
       "      <td>7.866803</td>\n",
       "      <td>15.829717</td>\n",
       "      <td>1.103196</td>\n",
       "      <td>2.222206</td>\n",
       "      <td>10.470586</td>\n",
       "    </tr>\n",
       "    <tr>\n",
       "      <th>min</th>\n",
       "      <td>0.522300</td>\n",
       "      <td>985.85000</td>\n",
       "      <td>30.344000</td>\n",
       "      <td>2.087400</td>\n",
       "      <td>17.878000</td>\n",
       "      <td>1000.800000</td>\n",
       "      <td>512.450000</td>\n",
       "      <td>100.170000</td>\n",
       "      <td>9.904400</td>\n",
       "      <td>0.000388</td>\n",
       "      <td>27.765000</td>\n",
       "    </tr>\n",
       "    <tr>\n",
       "      <th>25%</th>\n",
       "      <td>11.408000</td>\n",
       "      <td>1008.90000</td>\n",
       "      <td>69.750000</td>\n",
       "      <td>3.723900</td>\n",
       "      <td>23.294000</td>\n",
       "      <td>1079.600000</td>\n",
       "      <td>542.170000</td>\n",
       "      <td>127.985000</td>\n",
       "      <td>11.622000</td>\n",
       "      <td>0.858055</td>\n",
       "      <td>61.303500</td>\n",
       "    </tr>\n",
       "    <tr>\n",
       "      <th>50%</th>\n",
       "      <td>18.186000</td>\n",
       "      <td>1012.80000</td>\n",
       "      <td>82.266000</td>\n",
       "      <td>4.186200</td>\n",
       "      <td>25.082000</td>\n",
       "      <td>1088.700000</td>\n",
       "      <td>549.890000</td>\n",
       "      <td>133.780000</td>\n",
       "      <td>12.025000</td>\n",
       "      <td>1.390200</td>\n",
       "      <td>66.601000</td>\n",
       "    </tr>\n",
       "    <tr>\n",
       "      <th>75%</th>\n",
       "      <td>23.862500</td>\n",
       "      <td>1016.90000</td>\n",
       "      <td>90.043500</td>\n",
       "      <td>4.550900</td>\n",
       "      <td>27.184000</td>\n",
       "      <td>1096.000000</td>\n",
       "      <td>550.060000</td>\n",
       "      <td>140.895000</td>\n",
       "      <td>12.578000</td>\n",
       "      <td>2.160400</td>\n",
       "      <td>73.935500</td>\n",
       "    </tr>\n",
       "    <tr>\n",
       "      <th>max</th>\n",
       "      <td>34.929000</td>\n",
       "      <td>1034.20000</td>\n",
       "      <td>100.200000</td>\n",
       "      <td>7.610600</td>\n",
       "      <td>37.402000</td>\n",
       "      <td>1100.800000</td>\n",
       "      <td>550.610000</td>\n",
       "      <td>174.610000</td>\n",
       "      <td>15.081000</td>\n",
       "      <td>44.103000</td>\n",
       "      <td>119.890000</td>\n",
       "    </tr>\n",
       "  </tbody>\n",
       "</table>\n",
       "</div>"
      ],
      "text/plain": [
       "                 AT           AP            AH          AFDP          GTEP  \\\n",
       "count  15039.000000  15039.00000  15039.000000  15039.000000  15039.000000   \n",
       "mean      17.764381   1013.19924     79.124174      4.200294     25.419061   \n",
       "std        7.574323      6.41076     13.793439      0.760197      4.173916   \n",
       "min        0.522300    985.85000     30.344000      2.087400     17.878000   \n",
       "25%       11.408000   1008.90000     69.750000      3.723900     23.294000   \n",
       "50%       18.186000   1012.80000     82.266000      4.186200     25.082000   \n",
       "75%       23.862500   1016.90000     90.043500      4.550900     27.184000   \n",
       "max       34.929000   1034.20000    100.200000      7.610600     37.402000   \n",
       "\n",
       "                TIT           TAT           TEY           CDP            CO  \\\n",
       "count  15039.000000  15039.000000  15039.000000  15039.000000  15039.000000   \n",
       "mean    1083.798770    545.396183    134.188464     12.102353      1.972499   \n",
       "std       16.527806      7.866803     15.829717      1.103196      2.222206   \n",
       "min     1000.800000    512.450000    100.170000      9.904400      0.000388   \n",
       "25%     1079.600000    542.170000    127.985000     11.622000      0.858055   \n",
       "50%     1088.700000    549.890000    133.780000     12.025000      1.390200   \n",
       "75%     1096.000000    550.060000    140.895000     12.578000      2.160400   \n",
       "max     1100.800000    550.610000    174.610000     15.081000     44.103000   \n",
       "\n",
       "                NOX  \n",
       "count  15039.000000  \n",
       "mean      68.190934  \n",
       "std       10.470586  \n",
       "min       27.765000  \n",
       "25%       61.303500  \n",
       "50%       66.601000  \n",
       "75%       73.935500  \n",
       "max      119.890000  "
      ]
     },
     "execution_count": 9,
     "metadata": {},
     "output_type": "execute_result"
    }
   ],
   "source": [
    "gas.describe()"
   ]
  },
  {
   "cell_type": "markdown",
   "id": "0fece7a6",
   "metadata": {},
   "source": [
    "# Exploration Data Visualizaion(EDA)"
   ]
  },
  {
   "cell_type": "markdown",
   "id": "280ad0c1",
   "metadata": {},
   "source": [
    "# Corelation Matrix"
   ]
  },
  {
   "cell_type": "code",
   "execution_count": 10,
   "id": "e76e7bd3",
   "metadata": {},
   "outputs": [
    {
     "data": {
      "text/html": [
       "<div>\n",
       "<style scoped>\n",
       "    .dataframe tbody tr th:only-of-type {\n",
       "        vertical-align: middle;\n",
       "    }\n",
       "\n",
       "    .dataframe tbody tr th {\n",
       "        vertical-align: top;\n",
       "    }\n",
       "\n",
       "    .dataframe thead th {\n",
       "        text-align: right;\n",
       "    }\n",
       "</style>\n",
       "<table border=\"1\" class=\"dataframe\">\n",
       "  <thead>\n",
       "    <tr style=\"text-align: right;\">\n",
       "      <th></th>\n",
       "      <th>AT</th>\n",
       "      <th>AP</th>\n",
       "      <th>AH</th>\n",
       "      <th>AFDP</th>\n",
       "      <th>GTEP</th>\n",
       "      <th>TIT</th>\n",
       "      <th>TAT</th>\n",
       "      <th>TEY</th>\n",
       "      <th>CDP</th>\n",
       "      <th>CO</th>\n",
       "      <th>NOX</th>\n",
       "    </tr>\n",
       "  </thead>\n",
       "  <tbody>\n",
       "    <tr>\n",
       "      <th>AT</th>\n",
       "      <td>1.000000</td>\n",
       "      <td>-0.412953</td>\n",
       "      <td>-0.549432</td>\n",
       "      <td>-0.099333</td>\n",
       "      <td>-0.049103</td>\n",
       "      <td>0.093067</td>\n",
       "      <td>0.338569</td>\n",
       "      <td>-0.207495</td>\n",
       "      <td>-0.100705</td>\n",
       "      <td>-0.088588</td>\n",
       "      <td>-0.600006</td>\n",
       "    </tr>\n",
       "    <tr>\n",
       "      <th>AP</th>\n",
       "      <td>-0.412953</td>\n",
       "      <td>1.000000</td>\n",
       "      <td>0.042573</td>\n",
       "      <td>0.040318</td>\n",
       "      <td>0.078575</td>\n",
       "      <td>0.029650</td>\n",
       "      <td>-0.223479</td>\n",
       "      <td>0.146939</td>\n",
       "      <td>0.131198</td>\n",
       "      <td>0.041614</td>\n",
       "      <td>0.256744</td>\n",
       "    </tr>\n",
       "    <tr>\n",
       "      <th>AH</th>\n",
       "      <td>-0.549432</td>\n",
       "      <td>0.042573</td>\n",
       "      <td>1.000000</td>\n",
       "      <td>-0.119249</td>\n",
       "      <td>-0.202784</td>\n",
       "      <td>-0.247781</td>\n",
       "      <td>0.010859</td>\n",
       "      <td>-0.110272</td>\n",
       "      <td>-0.182010</td>\n",
       "      <td>0.165505</td>\n",
       "      <td>0.143061</td>\n",
       "    </tr>\n",
       "    <tr>\n",
       "      <th>AFDP</th>\n",
       "      <td>-0.099333</td>\n",
       "      <td>0.040318</td>\n",
       "      <td>-0.119249</td>\n",
       "      <td>1.000000</td>\n",
       "      <td>0.744251</td>\n",
       "      <td>0.627254</td>\n",
       "      <td>-0.571541</td>\n",
       "      <td>0.717995</td>\n",
       "      <td>0.727152</td>\n",
       "      <td>-0.334207</td>\n",
       "      <td>-0.037299</td>\n",
       "    </tr>\n",
       "    <tr>\n",
       "      <th>GTEP</th>\n",
       "      <td>-0.049103</td>\n",
       "      <td>0.078575</td>\n",
       "      <td>-0.202784</td>\n",
       "      <td>0.744251</td>\n",
       "      <td>1.000000</td>\n",
       "      <td>0.874526</td>\n",
       "      <td>-0.756884</td>\n",
       "      <td>0.977042</td>\n",
       "      <td>0.993784</td>\n",
       "      <td>-0.508259</td>\n",
       "      <td>-0.208496</td>\n",
       "    </tr>\n",
       "    <tr>\n",
       "      <th>TIT</th>\n",
       "      <td>0.093067</td>\n",
       "      <td>0.029650</td>\n",
       "      <td>-0.247781</td>\n",
       "      <td>0.627254</td>\n",
       "      <td>0.874526</td>\n",
       "      <td>1.000000</td>\n",
       "      <td>-0.357320</td>\n",
       "      <td>0.891587</td>\n",
       "      <td>0.887238</td>\n",
       "      <td>-0.688272</td>\n",
       "      <td>-0.231636</td>\n",
       "    </tr>\n",
       "    <tr>\n",
       "      <th>TAT</th>\n",
       "      <td>0.338569</td>\n",
       "      <td>-0.223479</td>\n",
       "      <td>0.010859</td>\n",
       "      <td>-0.571541</td>\n",
       "      <td>-0.756884</td>\n",
       "      <td>-0.357320</td>\n",
       "      <td>1.000000</td>\n",
       "      <td>-0.720356</td>\n",
       "      <td>-0.744740</td>\n",
       "      <td>0.063404</td>\n",
       "      <td>0.009888</td>\n",
       "    </tr>\n",
       "    <tr>\n",
       "      <th>TEY</th>\n",
       "      <td>-0.207495</td>\n",
       "      <td>0.146939</td>\n",
       "      <td>-0.110272</td>\n",
       "      <td>0.717995</td>\n",
       "      <td>0.977042</td>\n",
       "      <td>0.891587</td>\n",
       "      <td>-0.720356</td>\n",
       "      <td>1.000000</td>\n",
       "      <td>0.988473</td>\n",
       "      <td>-0.541751</td>\n",
       "      <td>-0.102631</td>\n",
       "    </tr>\n",
       "    <tr>\n",
       "      <th>CDP</th>\n",
       "      <td>-0.100705</td>\n",
       "      <td>0.131198</td>\n",
       "      <td>-0.182010</td>\n",
       "      <td>0.727152</td>\n",
       "      <td>0.993784</td>\n",
       "      <td>0.887238</td>\n",
       "      <td>-0.744740</td>\n",
       "      <td>0.988473</td>\n",
       "      <td>1.000000</td>\n",
       "      <td>-0.520783</td>\n",
       "      <td>-0.169103</td>\n",
       "    </tr>\n",
       "    <tr>\n",
       "      <th>CO</th>\n",
       "      <td>-0.088588</td>\n",
       "      <td>0.041614</td>\n",
       "      <td>0.165505</td>\n",
       "      <td>-0.334207</td>\n",
       "      <td>-0.508259</td>\n",
       "      <td>-0.688272</td>\n",
       "      <td>0.063404</td>\n",
       "      <td>-0.541751</td>\n",
       "      <td>-0.520783</td>\n",
       "      <td>1.000000</td>\n",
       "      <td>0.316743</td>\n",
       "    </tr>\n",
       "    <tr>\n",
       "      <th>NOX</th>\n",
       "      <td>-0.600006</td>\n",
       "      <td>0.256744</td>\n",
       "      <td>0.143061</td>\n",
       "      <td>-0.037299</td>\n",
       "      <td>-0.208496</td>\n",
       "      <td>-0.231636</td>\n",
       "      <td>0.009888</td>\n",
       "      <td>-0.102631</td>\n",
       "      <td>-0.169103</td>\n",
       "      <td>0.316743</td>\n",
       "      <td>1.000000</td>\n",
       "    </tr>\n",
       "  </tbody>\n",
       "</table>\n",
       "</div>"
      ],
      "text/plain": [
       "            AT        AP        AH      AFDP      GTEP       TIT       TAT  \\\n",
       "AT    1.000000 -0.412953 -0.549432 -0.099333 -0.049103  0.093067  0.338569   \n",
       "AP   -0.412953  1.000000  0.042573  0.040318  0.078575  0.029650 -0.223479   \n",
       "AH   -0.549432  0.042573  1.000000 -0.119249 -0.202784 -0.247781  0.010859   \n",
       "AFDP -0.099333  0.040318 -0.119249  1.000000  0.744251  0.627254 -0.571541   \n",
       "GTEP -0.049103  0.078575 -0.202784  0.744251  1.000000  0.874526 -0.756884   \n",
       "TIT   0.093067  0.029650 -0.247781  0.627254  0.874526  1.000000 -0.357320   \n",
       "TAT   0.338569 -0.223479  0.010859 -0.571541 -0.756884 -0.357320  1.000000   \n",
       "TEY  -0.207495  0.146939 -0.110272  0.717995  0.977042  0.891587 -0.720356   \n",
       "CDP  -0.100705  0.131198 -0.182010  0.727152  0.993784  0.887238 -0.744740   \n",
       "CO   -0.088588  0.041614  0.165505 -0.334207 -0.508259 -0.688272  0.063404   \n",
       "NOX  -0.600006  0.256744  0.143061 -0.037299 -0.208496 -0.231636  0.009888   \n",
       "\n",
       "           TEY       CDP        CO       NOX  \n",
       "AT   -0.207495 -0.100705 -0.088588 -0.600006  \n",
       "AP    0.146939  0.131198  0.041614  0.256744  \n",
       "AH   -0.110272 -0.182010  0.165505  0.143061  \n",
       "AFDP  0.717995  0.727152 -0.334207 -0.037299  \n",
       "GTEP  0.977042  0.993784 -0.508259 -0.208496  \n",
       "TIT   0.891587  0.887238 -0.688272 -0.231636  \n",
       "TAT  -0.720356 -0.744740  0.063404  0.009888  \n",
       "TEY   1.000000  0.988473 -0.541751 -0.102631  \n",
       "CDP   0.988473  1.000000 -0.520783 -0.169103  \n",
       "CO   -0.541751 -0.520783  1.000000  0.316743  \n",
       "NOX  -0.102631 -0.169103  0.316743  1.000000  "
      ]
     },
     "execution_count": 10,
     "metadata": {},
     "output_type": "execute_result"
    }
   ],
   "source": [
    "gas.corr()"
   ]
  },
  {
   "cell_type": "code",
   "execution_count": 11,
   "id": "f635a640",
   "metadata": {},
   "outputs": [
    {
     "data": {
      "image/png": "[encoded data removed]",
      "text/plain": [
       "<Figure size 1440x720 with 2 Axes>"
      ]
     },
     "metadata": {
      "needs_background": "light"
     },
     "output_type": "display_data"
    }
   ],
   "source": [
    "plt.figure(figsize=(20,10))\n",
    "sns.heatmap(gas.corr(),annot=True)\n",
    "plt.title(\"Correlation of Gas Turbines\")\n",
    "plt.show()"
   ]
  },
  {
   "cell_type": "code",
   "execution_count": 12,
   "id": "4da83a70",
   "metadata": {},
   "outputs": [
    {
     "data": {
      "text/html": [
       "<div>\n",
       "<style scoped>\n",
       "    .dataframe tbody tr th:only-of-type {\n",
       "        vertical-align: middle;\n",
       "    }\n",
       "\n",
       "    .dataframe tbody tr th {\n",
       "        vertical-align: top;\n",
       "    }\n",
       "\n",
       "    .dataframe thead th {\n",
       "        text-align: right;\n",
       "    }\n",
       "</style>\n",
       "<table border=\"1\" class=\"dataframe\">\n",
       "  <thead>\n",
       "    <tr style=\"text-align: right;\">\n",
       "      <th></th>\n",
       "      <th>AT</th>\n",
       "      <th>AP</th>\n",
       "      <th>AH</th>\n",
       "      <th>AFDP</th>\n",
       "      <th>GTEP</th>\n",
       "      <th>TIT</th>\n",
       "      <th>TAT</th>\n",
       "      <th>TEY</th>\n",
       "      <th>CDP</th>\n",
       "      <th>CO</th>\n",
       "      <th>NOX</th>\n",
       "    </tr>\n",
       "  </thead>\n",
       "  <tbody>\n",
       "    <tr>\n",
       "      <th>0</th>\n",
       "      <td>6.8594</td>\n",
       "      <td>1007.9</td>\n",
       "      <td>96.799</td>\n",
       "      <td>3.5000</td>\n",
       "      <td>19.663</td>\n",
       "      <td>1059.2</td>\n",
       "      <td>550.00</td>\n",
       "      <td>114.70</td>\n",
       "      <td>10.605</td>\n",
       "      <td>3.1547</td>\n",
       "      <td>82.722</td>\n",
       "    </tr>\n",
       "    <tr>\n",
       "      <th>1</th>\n",
       "      <td>6.7850</td>\n",
       "      <td>1008.4</td>\n",
       "      <td>97.118</td>\n",
       "      <td>3.4998</td>\n",
       "      <td>19.728</td>\n",
       "      <td>1059.3</td>\n",
       "      <td>550.00</td>\n",
       "      <td>114.72</td>\n",
       "      <td>10.598</td>\n",
       "      <td>3.2363</td>\n",
       "      <td>82.776</td>\n",
       "    </tr>\n",
       "    <tr>\n",
       "      <th>2</th>\n",
       "      <td>6.8977</td>\n",
       "      <td>1008.8</td>\n",
       "      <td>95.939</td>\n",
       "      <td>3.4824</td>\n",
       "      <td>19.779</td>\n",
       "      <td>1059.4</td>\n",
       "      <td>549.87</td>\n",
       "      <td>114.71</td>\n",
       "      <td>10.601</td>\n",
       "      <td>3.2012</td>\n",
       "      <td>82.468</td>\n",
       "    </tr>\n",
       "    <tr>\n",
       "      <th>3</th>\n",
       "      <td>7.0569</td>\n",
       "      <td>1009.2</td>\n",
       "      <td>95.249</td>\n",
       "      <td>3.4805</td>\n",
       "      <td>19.792</td>\n",
       "      <td>1059.6</td>\n",
       "      <td>549.99</td>\n",
       "      <td>114.72</td>\n",
       "      <td>10.606</td>\n",
       "      <td>3.1923</td>\n",
       "      <td>82.670</td>\n",
       "    </tr>\n",
       "    <tr>\n",
       "      <th>4</th>\n",
       "      <td>7.3978</td>\n",
       "      <td>1009.7</td>\n",
       "      <td>95.150</td>\n",
       "      <td>3.4976</td>\n",
       "      <td>19.765</td>\n",
       "      <td>1059.7</td>\n",
       "      <td>549.98</td>\n",
       "      <td>114.72</td>\n",
       "      <td>10.612</td>\n",
       "      <td>3.2484</td>\n",
       "      <td>82.311</td>\n",
       "    </tr>\n",
       "    <tr>\n",
       "      <th>...</th>\n",
       "      <td>...</td>\n",
       "      <td>...</td>\n",
       "      <td>...</td>\n",
       "      <td>...</td>\n",
       "      <td>...</td>\n",
       "      <td>...</td>\n",
       "      <td>...</td>\n",
       "      <td>...</td>\n",
       "      <td>...</td>\n",
       "      <td>...</td>\n",
       "      <td>...</td>\n",
       "    </tr>\n",
       "    <tr>\n",
       "      <th>15034</th>\n",
       "      <td>9.0301</td>\n",
       "      <td>1005.6</td>\n",
       "      <td>98.460</td>\n",
       "      <td>3.5421</td>\n",
       "      <td>19.164</td>\n",
       "      <td>1049.7</td>\n",
       "      <td>546.21</td>\n",
       "      <td>111.61</td>\n",
       "      <td>10.400</td>\n",
       "      <td>4.5186</td>\n",
       "      <td>79.559</td>\n",
       "    </tr>\n",
       "    <tr>\n",
       "      <th>15035</th>\n",
       "      <td>7.8879</td>\n",
       "      <td>1005.9</td>\n",
       "      <td>99.093</td>\n",
       "      <td>3.5059</td>\n",
       "      <td>19.414</td>\n",
       "      <td>1046.3</td>\n",
       "      <td>543.22</td>\n",
       "      <td>111.78</td>\n",
       "      <td>10.433</td>\n",
       "      <td>4.8470</td>\n",
       "      <td>79.917</td>\n",
       "    </tr>\n",
       "    <tr>\n",
       "      <th>15036</th>\n",
       "      <td>7.2647</td>\n",
       "      <td>1006.3</td>\n",
       "      <td>99.496</td>\n",
       "      <td>3.4770</td>\n",
       "      <td>19.530</td>\n",
       "      <td>1037.7</td>\n",
       "      <td>537.32</td>\n",
       "      <td>110.19</td>\n",
       "      <td>10.483</td>\n",
       "      <td>7.9632</td>\n",
       "      <td>90.912</td>\n",
       "    </tr>\n",
       "    <tr>\n",
       "      <th>15037</th>\n",
       "      <td>7.0060</td>\n",
       "      <td>1006.8</td>\n",
       "      <td>99.008</td>\n",
       "      <td>3.4486</td>\n",
       "      <td>19.377</td>\n",
       "      <td>1043.2</td>\n",
       "      <td>541.24</td>\n",
       "      <td>110.74</td>\n",
       "      <td>10.533</td>\n",
       "      <td>6.2494</td>\n",
       "      <td>93.227</td>\n",
       "    </tr>\n",
       "    <tr>\n",
       "      <th>15038</th>\n",
       "      <td>6.9279</td>\n",
       "      <td>1007.2</td>\n",
       "      <td>97.533</td>\n",
       "      <td>3.4275</td>\n",
       "      <td>19.306</td>\n",
       "      <td>1049.9</td>\n",
       "      <td>545.85</td>\n",
       "      <td>111.58</td>\n",
       "      <td>10.583</td>\n",
       "      <td>4.9816</td>\n",
       "      <td>92.498</td>\n",
       "    </tr>\n",
       "  </tbody>\n",
       "</table>\n",
       "<p>15039 rows × 11 columns</p>\n",
       "</div>"
      ],
      "text/plain": [
       "           AT      AP      AH    AFDP    GTEP     TIT     TAT     TEY     CDP  \\\n",
       "0      6.8594  1007.9  96.799  3.5000  19.663  1059.2  550.00  114.70  10.605   \n",
       "1      6.7850  1008.4  97.118  3.4998  19.728  1059.3  550.00  114.72  10.598   \n",
       "2      6.8977  1008.8  95.939  3.4824  19.779  1059.4  549.87  114.71  10.601   \n",
       "3      7.0569  1009.2  95.249  3.4805  19.792  1059.6  549.99  114.72  10.606   \n",
       "4      7.3978  1009.7  95.150  3.4976  19.765  1059.7  549.98  114.72  10.612   \n",
       "...       ...     ...     ...     ...     ...     ...     ...     ...     ...   \n",
       "15034  9.0301  1005.6  98.460  3.5421  19.164  1049.7  546.21  111.61  10.400   \n",
       "15035  7.8879  1005.9  99.093  3.5059  19.414  1046.3  543.22  111.78  10.433   \n",
       "15036  7.2647  1006.3  99.496  3.4770  19.530  1037.7  537.32  110.19  10.483   \n",
       "15037  7.0060  1006.8  99.008  3.4486  19.377  1043.2  541.24  110.74  10.533   \n",
       "15038  6.9279  1007.2  97.533  3.4275  19.306  1049.9  545.85  111.58  10.583   \n",
       "\n",
       "           CO     NOX  \n",
       "0      3.1547  82.722  \n",
       "1      3.2363  82.776  \n",
       "2      3.2012  82.468  \n",
       "3      3.1923  82.670  \n",
       "4      3.2484  82.311  \n",
       "...       ...     ...  \n",
       "15034  4.5186  79.559  \n",
       "15035  4.8470  79.917  \n",
       "15036  7.9632  90.912  \n",
       "15037  6.2494  93.227  \n",
       "15038  4.9816  92.498  \n",
       "\n",
       "[15039 rows x 11 columns]"
      ]
     },
     "execution_count": 12,
     "metadata": {},
     "output_type": "execute_result"
    }
   ],
   "source": [
    "gas"
   ]
  },
  {
   "cell_type": "code",
   "execution_count": 13,
   "id": "dcccb1b2",
   "metadata": {},
   "outputs": [
    {
     "data": {
      "text/plain": [
       "<AxesSubplot:xlabel='AT', ylabel='Density'>"
      ]
     },
     "execution_count": 13,
     "metadata": {},
     "output_type": "execute_result"
    },
    {
     "data": {
      "image/png": "[encoded data removed]",
      "text/plain": [
       "<Figure size 432x288 with 1 Axes>"
      ]
     },
     "metadata": {
      "needs_background": "light"
     },
     "output_type": "display_data"
    }
   ],
   "source": [
    "sns.distplot(gas['AT'])"
   ]
  },
  {
   "cell_type": "code",
   "execution_count": 14,
   "id": "058b0cd4",
   "metadata": {},
   "outputs": [
    {
     "data": {
      "text/plain": [
       "<AxesSubplot:xlabel='AP', ylabel='Density'>"
      ]
     },
     "execution_count": 14,
     "metadata": {},
     "output_type": "execute_result"
    },
    {
     "data": {
      "image/png": "[encoded data removed]",
      "text/plain": [
       "<Figure size 432x288 with 1 Axes>"
      ]
     },
     "metadata": {
      "needs_background": "light"
     },
     "output_type": "display_data"
    }
   ],
   "source": [
    "sns.distplot(gas['AP'])"
   ]
  },
  {
   "cell_type": "code",
   "execution_count": 15,
   "id": "cba78e60",
   "metadata": {},
   "outputs": [
    {
     "data": {
      "text/plain": [
       "<AxesSubplot:xlabel='AH', ylabel='Density'>"
      ]
     },
     "execution_count": 15,
     "metadata": {},
     "output_type": "execute_result"
    },
    {
     "data": {
      "image/png": "[encoded data removed]",
      "text/plain": [
       "<Figure size 432x288 with 1 Axes>"
      ]
     },
     "metadata": {
      "needs_background": "light"
     },
     "output_type": "display_data"
    }
   ],
   "source": [
    "sns.distplot(gas['AH'])"
   ]
  },
  {
   "cell_type": "code",
   "execution_count": 16,
   "id": "f3992ea2",
   "metadata": {},
   "outputs": [
    {
     "data": {
      "text/plain": [
       "<AxesSubplot:xlabel='AFDP', ylabel='Density'>"
      ]
     },
     "execution_count": 16,
     "metadata": {},
     "output_type": "execute_result"
    },
    {
     "data": {
      "image/png": "[encoded data removed]",
      "text/plain": [
       "<Figure size 432x288 with 1 Axes>"
      ]
     },
     "metadata": {
      "needs_background": "light"
     },
     "output_type": "display_data"
    }
   ],
   "source": [
    "sns.distplot(gas['AFDP'])"
   ]
  },
  {
   "cell_type": "code",
   "execution_count": 17,
   "id": "aee2781e",
   "metadata": {},
   "outputs": [
    {
     "data": {
      "text/plain": [
       "<AxesSubplot:xlabel='GTEP', ylabel='Density'>"
      ]
     },
     "execution_count": 17,
     "metadata": {},
     "output_type": "execute_result"
    },
    {
     "data": {
      "image/png": "[encoded data removed]",
      "text/plain": [
       "<Figure size 432x288 with 1 Axes>"
      ]
     },
     "metadata": {
      "needs_background": "light"
     },
     "output_type": "display_data"
    }
   ],
   "source": [
    "sns.distplot(gas['GTEP'])"
   ]
  },
  {
   "cell_type": "code",
   "execution_count": 18,
   "id": "7fd7c066",
   "metadata": {},
   "outputs": [
    {
     "data": {
      "text/plain": [
       "<AxesSubplot:xlabel='TIT', ylabel='Density'>"
      ]
     },
     "execution_count": 18,
     "metadata": {},
     "output_type": "execute_result"
    },
    {
     "data": {
      "image/png": "[encoded data removed]",
      "text/plain": [
       "<Figure size 432x288 with 1 Axes>"
      ]
     },
     "metadata": {
      "needs_background": "light"
     },
     "output_type": "display_data"
    }
   ],
   "source": [
    "sns.distplot(gas['TIT'])"
   ]
  },
  {
   "cell_type": "code",
   "execution_count": 19,
   "id": "87e8ab93",
   "metadata": {},
   "outputs": [
    {
     "data": {
      "text/plain": [
       "<AxesSubplot:xlabel='TAT', ylabel='Density'>"
      ]
     },
     "execution_count": 19,
     "metadata": {},
     "output_type": "execute_result"
    },
    {
     "data": {
      "image/png": "[encoded data removed]",
      "text/plain": [
       "<Figure size 432x288 with 1 Axes>"
      ]
     },
     "metadata": {
      "needs_background": "light"
     },
     "output_type": "display_data"
    }
   ],
   "source": [
    "sns.distplot(gas['TAT'])"
   ]
  },
  {
   "cell_type": "code",
   "execution_count": 20,
   "id": "f75c8ce7",
   "metadata": {},
   "outputs": [
    {
     "data": {
      "text/plain": [
       "<AxesSubplot:xlabel='TEY', ylabel='Density'>"
      ]
     },
     "execution_count": 20,
     "metadata": {},
     "output_type": "execute_result"
    },
    {
     "data": {
      "image/png": "[encoded data removed]",
      "text/plain": [
       "<Figure size 432x288 with 1 Axes>"
      ]
     },
     "metadata": {
      "needs_background": "light"
     },
     "output_type": "display_data"
    }
   ],
   "source": [
    "sns.distplot(gas['TEY'])"
   ]
  },
  {
   "cell_type": "code",
   "execution_count": 21,
   "id": "903c3ec0",
   "metadata": {},
   "outputs": [
    {
     "data": {
      "text/plain": [
       "<AxesSubplot:xlabel='CDP', ylabel='Density'>"
      ]
     },
     "execution_count": 21,
     "metadata": {},
     "output_type": "execute_result"
    },
    {
     "data": {
      "image/png": "[encoded data removed]",
      "text/plain": [
       "<Figure size 432x288 with 1 Axes>"
      ]
     },
     "metadata": {
      "needs_background": "light"
     },
     "output_type": "display_data"
    }
   ],
   "source": [
    "sns.distplot(gas['CDP'])"
   ]
  },
  {
   "cell_type": "code",
   "execution_count": 22,
   "id": "192903eb",
   "metadata": {},
   "outputs": [
    {
     "data": {
      "text/plain": [
       "<AxesSubplot:xlabel='CO', ylabel='Density'>"
      ]
     },
     "execution_count": 22,
     "metadata": {},
     "output_type": "execute_result"
    },
    {
     "data": {
      "image/png": "[encoded data removed]",
      "text/plain": [
       "<Figure size 432x288 with 1 Axes>"
      ]
     },
     "metadata": {
      "needs_background": "light"
     },
     "output_type": "display_data"
    }
   ],
   "source": [
    "sns.distplot(gas['CO'])"
   ]
  },
  {
   "cell_type": "code",
   "execution_count": 23,
   "id": "e244fa2e",
   "metadata": {},
   "outputs": [
    {
     "data": {
      "text/plain": [
       "<AxesSubplot:xlabel='NOX', ylabel='Density'>"
      ]
     },
     "execution_count": 23,
     "metadata": {},
     "output_type": "execute_result"
    },
    {
     "data": {
      "image/png": "[encoded data removed]",
      "text/plain": [
       "<Figure size 432x288 with 1 Axes>"
      ]
     },
     "metadata": {
      "needs_background": "light"
     },
     "output_type": "display_data"
    }
   ],
   "source": [
    "sns.distplot(gas['NOX'])"
   ]
  },
  {
   "cell_type": "code",
   "execution_count": 24,
   "id": "be743108",
   "metadata": {},
   "outputs": [
    {
     "data": {
      "text/plain": [
       "(15039, 11)"
      ]
     },
     "execution_count": 24,
     "metadata": {},
     "output_type": "execute_result"
    }
   ],
   "source": [
    "gas.shape"
   ]
  },
  {
   "cell_type": "markdown",
   "id": "a1f0a003",
   "metadata": {},
   "source": [
    "# Splitting Feature and Target"
   ]
  },
  {
   "cell_type": "code",
   "execution_count": 27,
   "id": "200a9991",
   "metadata": {},
   "outputs": [],
   "source": [
    "X = gas[['AT', 'AP', 'AH', 'AFDP', 'GTEP', 'TIT', 'TAT', 'CDP', 'CO', 'NOX']]"
   ]
  },
  {
   "cell_type": "code",
   "execution_count": 28,
   "id": "fdba1aa9",
   "metadata": {},
   "outputs": [
    {
     "data": {
      "text/html": [
       "<div>\n",
       "<style scoped>\n",
       "    .dataframe tbody tr th:only-of-type {\n",
       "        vertical-align: middle;\n",
       "    }\n",
       "\n",
       "    .dataframe tbody tr th {\n",
       "        vertical-align: top;\n",
       "    }\n",
       "\n",
       "    .dataframe thead th {\n",
       "        text-align: right;\n",
       "    }\n",
       "</style>\n",
       "<table border=\"1\" class=\"dataframe\">\n",
       "  <thead>\n",
       "    <tr style=\"text-align: right;\">\n",
       "      <th></th>\n",
       "      <th>AT</th>\n",
       "      <th>AP</th>\n",
       "      <th>AH</th>\n",
       "      <th>AFDP</th>\n",
       "      <th>GTEP</th>\n",
       "      <th>TIT</th>\n",
       "      <th>TAT</th>\n",
       "      <th>CDP</th>\n",
       "      <th>CO</th>\n",
       "      <th>NOX</th>\n",
       "    </tr>\n",
       "  </thead>\n",
       "  <tbody>\n",
       "    <tr>\n",
       "      <th>0</th>\n",
       "      <td>6.8594</td>\n",
       "      <td>1007.9</td>\n",
       "      <td>96.799</td>\n",
       "      <td>3.5000</td>\n",
       "      <td>19.663</td>\n",
       "      <td>1059.2</td>\n",
       "      <td>550.00</td>\n",
       "      <td>10.605</td>\n",
       "      <td>3.1547</td>\n",
       "      <td>82.722</td>\n",
       "    </tr>\n",
       "    <tr>\n",
       "      <th>1</th>\n",
       "      <td>6.7850</td>\n",
       "      <td>1008.4</td>\n",
       "      <td>97.118</td>\n",
       "      <td>3.4998</td>\n",
       "      <td>19.728</td>\n",
       "      <td>1059.3</td>\n",
       "      <td>550.00</td>\n",
       "      <td>10.598</td>\n",
       "      <td>3.2363</td>\n",
       "      <td>82.776</td>\n",
       "    </tr>\n",
       "    <tr>\n",
       "      <th>2</th>\n",
       "      <td>6.8977</td>\n",
       "      <td>1008.8</td>\n",
       "      <td>95.939</td>\n",
       "      <td>3.4824</td>\n",
       "      <td>19.779</td>\n",
       "      <td>1059.4</td>\n",
       "      <td>549.87</td>\n",
       "      <td>10.601</td>\n",
       "      <td>3.2012</td>\n",
       "      <td>82.468</td>\n",
       "    </tr>\n",
       "    <tr>\n",
       "      <th>3</th>\n",
       "      <td>7.0569</td>\n",
       "      <td>1009.2</td>\n",
       "      <td>95.249</td>\n",
       "      <td>3.4805</td>\n",
       "      <td>19.792</td>\n",
       "      <td>1059.6</td>\n",
       "      <td>549.99</td>\n",
       "      <td>10.606</td>\n",
       "      <td>3.1923</td>\n",
       "      <td>82.670</td>\n",
       "    </tr>\n",
       "    <tr>\n",
       "      <th>4</th>\n",
       "      <td>7.3978</td>\n",
       "      <td>1009.7</td>\n",
       "      <td>95.150</td>\n",
       "      <td>3.4976</td>\n",
       "      <td>19.765</td>\n",
       "      <td>1059.7</td>\n",
       "      <td>549.98</td>\n",
       "      <td>10.612</td>\n",
       "      <td>3.2484</td>\n",
       "      <td>82.311</td>\n",
       "    </tr>\n",
       "    <tr>\n",
       "      <th>...</th>\n",
       "      <td>...</td>\n",
       "      <td>...</td>\n",
       "      <td>...</td>\n",
       "      <td>...</td>\n",
       "      <td>...</td>\n",
       "      <td>...</td>\n",
       "      <td>...</td>\n",
       "      <td>...</td>\n",
       "      <td>...</td>\n",
       "      <td>...</td>\n",
       "    </tr>\n",
       "    <tr>\n",
       "      <th>15034</th>\n",
       "      <td>9.0301</td>\n",
       "      <td>1005.6</td>\n",
       "      <td>98.460</td>\n",
       "      <td>3.5421</td>\n",
       "      <td>19.164</td>\n",
       "      <td>1049.7</td>\n",
       "      <td>546.21</td>\n",
       "      <td>10.400</td>\n",
       "      <td>4.5186</td>\n",
       "      <td>79.559</td>\n",
       "    </tr>\n",
       "    <tr>\n",
       "      <th>15035</th>\n",
       "      <td>7.8879</td>\n",
       "      <td>1005.9</td>\n",
       "      <td>99.093</td>\n",
       "      <td>3.5059</td>\n",
       "      <td>19.414</td>\n",
       "      <td>1046.3</td>\n",
       "      <td>543.22</td>\n",
       "      <td>10.433</td>\n",
       "      <td>4.8470</td>\n",
       "      <td>79.917</td>\n",
       "    </tr>\n",
       "    <tr>\n",
       "      <th>15036</th>\n",
       "      <td>7.2647</td>\n",
       "      <td>1006.3</td>\n",
       "      <td>99.496</td>\n",
       "      <td>3.4770</td>\n",
       "      <td>19.530</td>\n",
       "      <td>1037.7</td>\n",
       "      <td>537.32</td>\n",
       "      <td>10.483</td>\n",
       "      <td>7.9632</td>\n",
       "      <td>90.912</td>\n",
       "    </tr>\n",
       "    <tr>\n",
       "      <th>15037</th>\n",
       "      <td>7.0060</td>\n",
       "      <td>1006.8</td>\n",
       "      <td>99.008</td>\n",
       "      <td>3.4486</td>\n",
       "      <td>19.377</td>\n",
       "      <td>1043.2</td>\n",
       "      <td>541.24</td>\n",
       "      <td>10.533</td>\n",
       "      <td>6.2494</td>\n",
       "      <td>93.227</td>\n",
       "    </tr>\n",
       "    <tr>\n",
       "      <th>15038</th>\n",
       "      <td>6.9279</td>\n",
       "      <td>1007.2</td>\n",
       "      <td>97.533</td>\n",
       "      <td>3.4275</td>\n",
       "      <td>19.306</td>\n",
       "      <td>1049.9</td>\n",
       "      <td>545.85</td>\n",
       "      <td>10.583</td>\n",
       "      <td>4.9816</td>\n",
       "      <td>92.498</td>\n",
       "    </tr>\n",
       "  </tbody>\n",
       "</table>\n",
       "<p>15039 rows × 10 columns</p>\n",
       "</div>"
      ],
      "text/plain": [
       "           AT      AP      AH    AFDP    GTEP     TIT     TAT     CDP      CO  \\\n",
       "0      6.8594  1007.9  96.799  3.5000  19.663  1059.2  550.00  10.605  3.1547   \n",
       "1      6.7850  1008.4  97.118  3.4998  19.728  1059.3  550.00  10.598  3.2363   \n",
       "2      6.8977  1008.8  95.939  3.4824  19.779  1059.4  549.87  10.601  3.2012   \n",
       "3      7.0569  1009.2  95.249  3.4805  19.792  1059.6  549.99  10.606  3.1923   \n",
       "4      7.3978  1009.7  95.150  3.4976  19.765  1059.7  549.98  10.612  3.2484   \n",
       "...       ...     ...     ...     ...     ...     ...     ...     ...     ...   \n",
       "15034  9.0301  1005.6  98.460  3.5421  19.164  1049.7  546.21  10.400  4.5186   \n",
       "15035  7.8879  1005.9  99.093  3.5059  19.414  1046.3  543.22  10.433  4.8470   \n",
       "15036  7.2647  1006.3  99.496  3.4770  19.530  1037.7  537.32  10.483  7.9632   \n",
       "15037  7.0060  1006.8  99.008  3.4486  19.377  1043.2  541.24  10.533  6.2494   \n",
       "15038  6.9279  1007.2  97.533  3.4275  19.306  1049.9  545.85  10.583  4.9816   \n",
       "\n",
       "          NOX  \n",
       "0      82.722  \n",
       "1      82.776  \n",
       "2      82.468  \n",
       "3      82.670  \n",
       "4      82.311  \n",
       "...       ...  \n",
       "15034  79.559  \n",
       "15035  79.917  \n",
       "15036  90.912  \n",
       "15037  93.227  \n",
       "15038  92.498  \n",
       "\n",
       "[15039 rows x 10 columns]"
      ]
     },
     "execution_count": 28,
     "metadata": {},
     "output_type": "execute_result"
    }
   ],
   "source": [
    "X"
   ]
  },
  {
   "cell_type": "code",
   "execution_count": 30,
   "id": "0641fcc5",
   "metadata": {},
   "outputs": [],
   "source": [
    "y = gas['TEY'].values"
   ]
  },
  {
   "cell_type": "code",
   "execution_count": 31,
   "id": "86a603ce",
   "metadata": {},
   "outputs": [
    {
     "data": {
      "text/plain": [
       "array([114.7 , 114.72, 114.71, ..., 110.19, 110.74, 111.58])"
      ]
     },
     "execution_count": 31,
     "metadata": {},
     "output_type": "execute_result"
    }
   ],
   "source": [
    "y"
   ]
  },
  {
   "cell_type": "markdown",
   "id": "83d46e57",
   "metadata": {},
   "source": [
    "# Feature Scalling"
   ]
  },
  {
   "cell_type": "code",
   "execution_count": 32,
   "id": "0ea5ccc0",
   "metadata": {},
   "outputs": [],
   "source": [
    "from sklearn.preprocessing import StandardScaler"
   ]
  },
  {
   "cell_type": "code",
   "execution_count": 33,
   "id": "9f70a8d0",
   "metadata": {},
   "outputs": [],
   "source": [
    "sc = StandardScaler()"
   ]
  },
  {
   "cell_type": "code",
   "execution_count": 34,
   "id": "41f1b737",
   "metadata": {},
   "outputs": [],
   "source": [
    "x = sc.fit_transform(X)"
   ]
  },
  {
   "cell_type": "markdown",
   "id": "484877ba",
   "metadata": {},
   "source": [
    "# Model Creation"
   ]
  },
  {
   "cell_type": "code",
   "execution_count": 35,
   "id": "c84a37ae",
   "metadata": {},
   "outputs": [],
   "source": [
    "from keras.models import Sequential\n",
    "from keras.layers import Dense"
   ]
  },
  {
   "cell_type": "code",
   "execution_count": 36,
   "id": "84c85033",
   "metadata": {},
   "outputs": [],
   "source": [
    "model=Sequential()\n",
    "model.add(Dense(28,activation='relu'))\n",
    "model.add(Dense(14,activation='relu'))\n",
    "model.add(Dense(1,activation='sigmoid'))"
   ]
  },
  {
   "cell_type": "code",
   "execution_count": 37,
   "id": "50a3ba78",
   "metadata": {},
   "outputs": [],
   "source": [
    "#compikle model\n",
    "model.compile(loss='binary_crossentropy',optimizer='adam',metrics=['accuracy'])"
   ]
  },
  {
   "cell_type": "code",
   "execution_count": 38,
   "id": "50e445e8",
   "metadata": {},
   "outputs": [
    {
     "name": "stdout",
     "output_type": "stream",
     "text": [
      "Epoch 1/250\n",
      "292/292 [==============================] - 2s 4ms/step - loss: -1330941.0000 - accuracy: 0.0000e+00 - val_loss: -5143943.0000 - val_accuracy: 0.0000e+00\n",
      "Epoch 2/250\n",
      "292/292 [==============================] - 1s 3ms/step - loss: -20538702.0000 - accuracy: 0.0000e+00 - val_loss: -43078340.0000 - val_accuracy: 0.0000e+00\n",
      "Epoch 3/250\n",
      "292/292 [==============================] - 1s 3ms/step - loss: -89137608.0000 - accuracy: 0.0000e+00 - val_loss: -142705408.0000 - val_accuracy: 0.0000e+00\n",
      "Epoch 4/250\n",
      "292/292 [==============================] - 1s 3ms/step - loss: -232451952.0000 - accuracy: 0.0000e+00 - val_loss: -324779872.0000 - val_accuracy: 0.0000e+00\n",
      "Epoch 5/250\n",
      "292/292 [==============================] - 1s 3ms/step - loss: -468612576.0000 - accuracy: 0.0000e+00 - val_loss: -604130176.0000 - val_accuracy: 0.0000e+00\n",
      "Epoch 6/250\n",
      "292/292 [==============================] - 1s 3ms/step - loss: -811008000.0000 - accuracy: 0.0000e+00 - val_loss: -992150656.0000 - val_accuracy: 0.0000e+00\n",
      "Epoch 7/250\n",
      "292/292 [==============================] - 1s 3ms/step - loss: -1269776000.0000 - accuracy: 0.0000e+00 - val_loss: -1497389568.0000 - val_accuracy: 0.0000e+00\n",
      "Epoch 8/250\n",
      "292/292 [==============================] - 1s 3ms/step - loss: -1852721664.0000 - accuracy: 0.0000e+00 - val_loss: -2126513024.0000 - val_accuracy: 0.0000e+00\n",
      "Epoch 9/250\n",
      "292/292 [==============================] - 1s 3ms/step - loss: -2566317824.0000 - accuracy: 0.0000e+00 - val_loss: -2885684992.0000 - val_accuracy: 0.0000e+00\n",
      "Epoch 10/250\n",
      "292/292 [==============================] - 1s 3ms/step - loss: -3416184576.0000 - accuracy: 0.0000e+00 - val_loss: -3779267328.0000 - val_accuracy: 0.0000e+00\n",
      "Epoch 11/250\n",
      "292/292 [==============================] - 1s 3ms/step - loss: -4407162880.0000 - accuracy: 0.0000e+00 - val_loss: -4812646912.0000 - val_accuracy: 0.0000e+00\n",
      "Epoch 12/250\n",
      "292/292 [==============================] - 1s 3ms/step - loss: -5544014848.0000 - accuracy: 0.0000e+00 - val_loss: -5990096384.0000 - val_accuracy: 0.0000e+00\n",
      "Epoch 13/250\n",
      "292/292 [==============================] - 1s 3ms/step - loss: -6831117312.0000 - accuracy: 0.0000e+00 - val_loss: -7315561472.0000 - val_accuracy: 0.0000e+00\n",
      "Epoch 14/250\n",
      "292/292 [==============================] - 1s 3ms/step - loss: -8272978432.0000 - accuracy: 0.0000e+00 - val_loss: -8793499648.0000 - val_accuracy: 0.0000e+00\n",
      "Epoch 15/250\n",
      "292/292 [==============================] - 1s 3ms/step - loss: -9873844224.0000 - accuracy: 0.0000e+00 - val_loss: -10428017664.0000 - val_accuracy: 0.0000e+00\n",
      "Epoch 16/250\n",
      "292/292 [==============================] - 1s 3ms/step - loss: -11638068224.0000 - accuracy: 0.0000e+00 - val_loss: -12223785984.0000 - val_accuracy: 0.0000e+00\n",
      "Epoch 17/250\n",
      "292/292 [==============================] - 1s 3ms/step - loss: -13570361344.0000 - accuracy: 0.0000e+00 - val_loss: -14184423424.0000 - val_accuracy: 0.0000e+00\n",
      "Epoch 18/250\n",
      "292/292 [==============================] - 1s 3ms/step - loss: -15674886144.0000 - accuracy: 0.0000e+00 - val_loss: -16315019264.0000 - val_accuracy: 0.0000e+00\n",
      "Epoch 19/250\n",
      "292/292 [==============================] - 1s 3ms/step - loss: -17956655104.0000 - accuracy: 0.0000e+00 - val_loss: -18620524544.0000 - val_accuracy: 0.0000e+00\n",
      "Epoch 20/250\n",
      "292/292 [==============================] - 1s 3ms/step - loss: -20419747840.0000 - accuracy: 0.0000e+00 - val_loss: -21103362048.0000 - val_accuracy: 0.0000e+00\n",
      "Epoch 21/250\n",
      "292/292 [==============================] - 1s 3ms/step - loss: -23068993536.0000 - accuracy: 0.0000e+00 - val_loss: -23769802752.0000 - val_accuracy: 0.0000e+00\n",
      "Epoch 22/250\n",
      "292/292 [==============================] - 1s 3ms/step - loss: -25909264384.0000 - accuracy: 0.0000e+00 - val_loss: -26624780288.0000 - val_accuracy: 0.0000e+00\n",
      "Epoch 23/250\n",
      "292/292 [==============================] - 1s 3ms/step - loss: -28945045504.0000 - accuracy: 0.0000e+00 - val_loss: -29671268352.0000 - val_accuracy: 0.0000e+00\n",
      "Epoch 24/250\n",
      "292/292 [==============================] - 1s 3ms/step - loss: -32180752384.0000 - accuracy: 0.0000e+00 - val_loss: -32914239488.0000 - val_accuracy: 0.0000e+00\n",
      "Epoch 25/250\n",
      "292/292 [==============================] - 1s 3ms/step - loss: -35621371904.0000 - accuracy: 0.0000e+00 - val_loss: -36359823360.0000 - val_accuracy: 0.0000e+00\n",
      "Epoch 26/250\n",
      "292/292 [==============================] - 1s 3ms/step - loss: -39271481344.0000 - accuracy: 0.0000e+00 - val_loss: -40010199040.0000 - val_accuracy: 0.0000e+00\n",
      "Epoch 27/250\n",
      "292/292 [==============================] - 1s 3ms/step - loss: -43136806912.0000 - accuracy: 0.0000e+00 - val_loss: -43872129024.0000 - val_accuracy: 0.0000e+00\n",
      "Epoch 28/250\n",
      "292/292 [==============================] - 1s 3ms/step - loss: -47221686272.0000 - accuracy: 0.0000e+00 - val_loss: -47950475264.0000 - val_accuracy: 0.0000e+00\n",
      "Epoch 29/250\n",
      "292/292 [==============================] - 1s 3ms/step - loss: -51530240000.0000 - accuracy: 0.0000e+00 - val_loss: -52248399872.0000 - val_accuracy: 0.0000e+00\n",
      "Epoch 30/250\n",
      "292/292 [==============================] - 1s 3ms/step - loss: -56066994176.0000 - accuracy: 0.0000e+00 - val_loss: -56769601536.0000 - val_accuracy: 0.0000e+00\n",
      "Epoch 31/250\n",
      "292/292 [==============================] - 1s 3ms/step - loss: -60837982208.0000 - accuracy: 0.0000e+00 - val_loss: -61521973248.0000 - val_accuracy: 0.0000e+00\n",
      "Epoch 32/250\n",
      "292/292 [==============================] - 1s 3ms/step - loss: -65847394304.0000 - accuracy: 0.0000e+00 - val_loss: -66507186176.0000 - val_accuracy: 0.0000e+00\n",
      "Epoch 33/250\n",
      "292/292 [==============================] - 1s 3ms/step - loss: -71100350464.0000 - accuracy: 0.0000e+00 - val_loss: -71730970624.0000 - val_accuracy: 0.0000e+00\n",
      "Epoch 34/250\n",
      "292/292 [==============================] - 1s 4ms/step - loss: -76601548800.0000 - accuracy: 0.0000e+00 - val_loss: -77199458304.0000 - val_accuracy: 0.0000e+00\n",
      "Epoch 35/250\n",
      "292/292 [==============================] - 1s 3ms/step - loss: -82355642368.0000 - accuracy: 0.0000e+00 - val_loss: -82916360192.0000 - val_accuracy: 0.0000e+00\n",
      "Epoch 36/250\n",
      "292/292 [==============================] - 1s 3ms/step - loss: -88367005696.0000 - accuracy: 0.0000e+00 - val_loss: -88885207040.0000 - val_accuracy: 0.0000e+00\n",
      "Epoch 37/250\n",
      "292/292 [==============================] - 1s 3ms/step - loss: -94640873472.0000 - accuracy: 0.0000e+00 - val_loss: -95111553024.0000 - val_accuracy: 0.0000e+00\n",
      "Epoch 38/250\n",
      "292/292 [==============================] - 1s 4ms/step - loss: -101181923328.0000 - accuracy: 0.0000e+00 - val_loss: -101600083968.0000 - val_accuracy: 0.0000e+00\n",
      "Epoch 39/250\n",
      "292/292 [==============================] - 1s 3ms/step - loss: -107994849280.0000 - accuracy: 0.0000e+00 - val_loss: -108353413120.0000 - val_accuracy: 0.0000e+00\n",
      "Epoch 40/250\n",
      "292/292 [==============================] - 1s 3ms/step - loss: -115084550144.0000 - accuracy: 0.0000e+00 - val_loss: -115379126272.0000 - val_accuracy: 0.0000e+00\n",
      "Epoch 41/250\n",
      "292/292 [==============================] - 1s 3ms/step - loss: -122455982080.0000 - accuracy: 0.0000e+00 - val_loss: -122681614336.0000 - val_accuracy: 0.0000e+00\n",
      "Epoch 42/250\n",
      "292/292 [==============================] - 1s 3ms/step - loss: -130113388544.0000 - accuracy: 0.0000e+00 - val_loss: -130263531520.0000 - val_accuracy: 0.0000e+00\n",
      "Epoch 43/250\n",
      "292/292 [==============================] - 1s 3ms/step - loss: -138061365248.0000 - accuracy: 0.0000e+00 - val_loss: -138130210816.0000 - val_accuracy: 0.0000e+00\n",
      "Epoch 44/250\n",
      "292/292 [==============================] - 1s 3ms/step - loss: -146304909312.0000 - accuracy: 0.0000e+00 - val_loss: -146286804992.0000 - val_accuracy: 0.0000e+00\n",
      "Epoch 45/250\n",
      "292/292 [==============================] - 1s 3ms/step - loss: -154849181696.0000 - accuracy: 0.0000e+00 - val_loss: -154737180672.0000 - val_accuracy: 0.0000e+00\n",
      "Epoch 46/250\n",
      "292/292 [==============================] - 1s 3ms/step - loss: -163698638848.0000 - accuracy: 0.0000e+00 - val_loss: -163486449664.0000 - val_accuracy: 0.0000e+00\n",
      "Epoch 47/250\n",
      "292/292 [==============================] - 1s 4ms/step - loss: -172856492032.0000 - accuracy: 0.0000e+00 - val_loss: -172539674624.0000 - val_accuracy: 0.0000e+00\n",
      "Epoch 48/250\n",
      "292/292 [==============================] - 1s 3ms/step - loss: -182327590912.0000 - accuracy: 0.0000e+00 - val_loss: -181897150464.0000 - val_accuracy: 0.0000e+00\n",
      "Epoch 49/250\n",
      "292/292 [==============================] - 1s 3ms/step - loss: -192118931456.0000 - accuracy: 0.0000e+00 - val_loss: -191569002496.0000 - val_accuracy: 0.0000e+00\n",
      "Epoch 50/250\n",
      "292/292 [==============================] - 1s 3ms/step - loss: -202233921536.0000 - accuracy: 0.0000e+00 - val_loss: -201554804736.0000 - val_accuracy: 0.0000e+00\n",
      "Epoch 51/250\n",
      "292/292 [==============================] - 1s 3ms/step - loss: -212678672384.0000 - accuracy: 0.0000e+00 - val_loss: -211868729344.0000 - val_accuracy: 0.0000e+00\n",
      "Epoch 52/250\n",
      "292/292 [==============================] - 1s 3ms/step - loss: -223455608832.0000 - accuracy: 0.0000e+00 - val_loss: -222502895616.0000 - val_accuracy: 0.0000e+00\n",
      "Epoch 53/250\n",
      "292/292 [==============================] - 1s 3ms/step - loss: -234568941568.0000 - accuracy: 0.0000e+00 - val_loss: -233469181952.0000 - val_accuracy: 0.0000e+00\n",
      "Epoch 54/250\n",
      "292/292 [==============================] - 1s 3ms/step - loss: -246025093120.0000 - accuracy: 0.0000e+00 - val_loss: -244769783808.0000 - val_accuracy: 0.0000e+00\n",
      "Epoch 55/250\n",
      "292/292 [==============================] - 1s 3ms/step - loss: -257829142528.0000 - accuracy: 0.0000e+00 - val_loss: -256412254208.0000 - val_accuracy: 0.0000e+00\n",
      "Epoch 56/250\n",
      "292/292 [==============================] - 1s 3ms/step - loss: -269985742848.0000 - accuracy: 0.0000e+00 - val_loss: -268397707264.0000 - val_accuracy: 0.0000e+00\n",
      "Epoch 57/250\n",
      "292/292 [==============================] - 1s 3ms/step - loss: -282496925696.0000 - accuracy: 0.0000e+00 - val_loss: -280731811840.0000 - val_accuracy: 0.0000e+00\n",
      "Epoch 58/250\n",
      "292/292 [==============================] - 1s 3ms/step - loss: -295368753152.0000 - accuracy: 0.0000e+00 - val_loss: -293414961152.0000 - val_accuracy: 0.0000e+00\n",
      "Epoch 59/250\n",
      "292/292 [==============================] - 1s 3ms/step - loss: -308606074880.0000 - accuracy: 0.0000e+00 - val_loss: -306459410432.0000 - val_accuracy: 0.0000e+00\n",
      "Epoch 60/250\n",
      "292/292 [==============================] - 1s 3ms/step - loss: -322212200448.0000 - accuracy: 0.0000e+00 - val_loss: -319860637696.0000 - val_accuracy: 0.0000e+00\n",
      "Epoch 61/250\n",
      "292/292 [==============================] - 1s 3ms/step - loss: -336192929792.0000 - accuracy: 0.0000e+00 - val_loss: -333634895872.0000 - val_accuracy: 0.0000e+00\n",
      "Epoch 62/250\n",
      "292/292 [==============================] - 1s 3ms/step - loss: -350554193920.0000 - accuracy: 0.0000e+00 - val_loss: -347774517248.0000 - val_accuracy: 0.0000e+00\n",
      "Epoch 63/250\n",
      "292/292 [==============================] - 1s 3ms/step - loss: -365300350976.0000 - accuracy: 0.0000e+00 - val_loss: -362290282496.0000 - val_accuracy: 0.0000e+00\n",
      "Epoch 64/250\n",
      "292/292 [==============================] - 1s 4ms/step - loss: -380436217856.0000 - accuracy: 0.0000e+00 - val_loss: -377191923712.0000 - val_accuracy: 0.0000e+00\n",
      "Epoch 65/250\n",
      "292/292 [==============================] - 1s 3ms/step - loss: -395963695104.0000 - accuracy: 0.0000e+00 - val_loss: -392470200320.0000 - val_accuracy: 0.0000e+00\n",
      "Epoch 66/250\n",
      "292/292 [==============================] - 1s 3ms/step - loss: -411885797376.0000 - accuracy: 0.0000e+00 - val_loss: -408142446592.0000 - val_accuracy: 0.0000e+00\n",
      "Epoch 67/250\n",
      "292/292 [==============================] - 1s 3ms/step - loss: -428211109888.0000 - accuracy: 0.0000e+00 - val_loss: -424203354112.0000 - val_accuracy: 0.0000e+00\n",
      "Epoch 68/250\n",
      "292/292 [==============================] - 1s 3ms/step - loss: -444943171584.0000 - accuracy: 0.0000e+00 - val_loss: -440662720512.0000 - val_accuracy: 0.0000e+00\n",
      "Epoch 69/250\n",
      "292/292 [==============================] - 1s 3ms/step - loss: -462088699904.0000 - accuracy: 0.0000e+00 - val_loss: -457525231616.0000 - val_accuracy: 0.0000e+00\n",
      "Epoch 70/250\n",
      "292/292 [==============================] - 1s 3ms/step - loss: -479651627008.0000 - accuracy: 0.0000e+00 - val_loss: -474794754048.0000 - val_accuracy: 0.0000e+00\n",
      "Epoch 71/250\n",
      "292/292 [==============================] - 1s 3ms/step - loss: -497634770944.0000 - accuracy: 0.0000e+00 - val_loss: -492476071936.0000 - val_accuracy: 0.0000e+00\n",
      "Epoch 72/250\n",
      "292/292 [==============================] - 1s 3ms/step - loss: -516042031104.0000 - accuracy: 0.0000e+00 - val_loss: -510572560384.0000 - val_accuracy: 0.0000e+00\n",
      "Epoch 73/250\n",
      "292/292 [==============================] - 1s 3ms/step - loss: -534879010816.0000 - accuracy: 0.0000e+00 - val_loss: -529087889408.0000 - val_accuracy: 0.0000e+00\n",
      "Epoch 74/250\n",
      "292/292 [==============================] - 1s 3ms/step - loss: -554150068224.0000 - accuracy: 0.0000e+00 - val_loss: -548029825024.0000 - val_accuracy: 0.0000e+00\n",
      "Epoch 75/250\n",
      "292/292 [==============================] - 1s 3ms/step - loss: -573859430400.0000 - accuracy: 0.0000e+00 - val_loss: -567393320960.0000 - val_accuracy: 0.0000e+00\n",
      "Epoch 76/250\n",
      "292/292 [==============================] - 1s 3ms/step - loss: -594012209152.0000 - accuracy: 0.0000e+00 - val_loss: -587200528384.0000 - val_accuracy: 0.0000e+00\n",
      "Epoch 77/250\n",
      "292/292 [==============================] - 1s 3ms/step - loss: -614611353600.0000 - accuracy: 0.0000e+00 - val_loss: -607438110720.0000 - val_accuracy: 0.0000e+00\n",
      "Epoch 78/250\n",
      "292/292 [==============================] - 1s 3ms/step - loss: -635662499840.0000 - accuracy: 0.0000e+00 - val_loss: -628114325504.0000 - val_accuracy: 0.0000e+00\n",
      "Epoch 79/250\n",
      "292/292 [==============================] - 1s 3ms/step - loss: -657173053440.0000 - accuracy: 0.0000e+00 - val_loss: -649238740992.0000 - val_accuracy: 0.0000e+00\n",
      "Epoch 80/250\n",
      "292/292 [==============================] - 1s 4ms/step - loss: -679142359040.0000 - accuracy: 0.0000e+00 - val_loss: -670816141312.0000 - val_accuracy: 0.0000e+00\n",
      "Epoch 81/250\n",
      "292/292 [==============================] - 1s 4ms/step - loss: -701579460608.0000 - accuracy: 0.0000e+00 - val_loss: -692849147904.0000 - val_accuracy: 0.0000e+00\n",
      "Epoch 82/250\n",
      "292/292 [==============================] - 1s 3ms/step - loss: -724487700480.0000 - accuracy: 0.0000e+00 - val_loss: -715339857920.0000 - val_accuracy: 0.0000e+00\n",
      "Epoch 83/250\n",
      "292/292 [==============================] - 1s 3ms/step - loss: -747872583680.0000 - accuracy: 0.0000e+00 - val_loss: -738298888192.0000 - val_accuracy: 0.0000e+00\n",
      "Epoch 84/250\n",
      "292/292 [==============================] - 1s 3ms/step - loss: -771736076288.0000 - accuracy: 0.0000e+00 - val_loss: -761721847808.0000 - val_accuracy: 0.0000e+00\n",
      "Epoch 85/250\n",
      "292/292 [==============================] - 1s 3ms/step - loss: -796082831360.0000 - accuracy: 0.0000e+00 - val_loss: -785620533248.0000 - val_accuracy: 0.0000e+00\n",
      "Epoch 86/250\n",
      "292/292 [==============================] - 1s 4ms/step - loss: -820917567488.0000 - accuracy: 0.0000e+00 - val_loss: -809991471104.0000 - val_accuracy: 0.0000e+00\n",
      "Epoch 87/250\n",
      "292/292 [==============================] - 1s 3ms/step - loss: -846247952384.0000 - accuracy: 0.0000e+00 - val_loss: -834853142528.0000 - val_accuracy: 0.0000e+00\n",
      "Epoch 88/250\n",
      "292/292 [==============================] - 1s 3ms/step - loss: -872076869632.0000 - accuracy: 0.0000e+00 - val_loss: -860192374784.0000 - val_accuracy: 0.0000e+00\n",
      "Epoch 89/250\n",
      "292/292 [==============================] - 1s 3ms/step - loss: -898409431040.0000 - accuracy: 0.0000e+00 - val_loss: -886025814016.0000 - val_accuracy: 0.0000e+00\n",
      "Epoch 90/250\n",
      "292/292 [==============================] - 1s 3ms/step - loss: -925247799296.0000 - accuracy: 0.0000e+00 - val_loss: -912350117888.0000 - val_accuracy: 0.0000e+00\n",
      "Epoch 91/250\n",
      "292/292 [==============================] - 1s 3ms/step - loss: -952594857984.0000 - accuracy: 0.0000e+00 - val_loss: -939180621824.0000 - val_accuracy: 0.0000e+00\n",
      "Epoch 92/250\n",
      "292/292 [==============================] - 1s 4ms/step - loss: -980456112128.0000 - accuracy: 0.0000e+00 - val_loss: -966510182400.0000 - val_accuracy: 0.0000e+00\n",
      "Epoch 93/250\n",
      "292/292 [==============================] - 1s 3ms/step - loss: -1008840933376.0000 - accuracy: 0.0000e+00 - val_loss: -994344960000.0000 - val_accuracy: 0.0000e+00\n",
      "Epoch 94/250\n",
      "292/292 [==============================] - 1s 3ms/step - loss: -1037752205312.0000 - accuracy: 0.0000e+00 - val_loss: -1022702714880.0000 - val_accuracy: 0.0000e+00\n",
      "Epoch 95/250\n",
      "292/292 [==============================] - 1s 3ms/step - loss: -1067193991168.0000 - accuracy: 0.0000e+00 - val_loss: -1051570929664.0000 - val_accuracy: 0.0000e+00\n",
      "Epoch 96/250\n",
      "292/292 [==============================] - 1s 3ms/step - loss: -1097168650240.0000 - accuracy: 0.0000e+00 - val_loss: -1080956485632.0000 - val_accuracy: 0.0000e+00\n",
      "Epoch 97/250\n",
      "292/292 [==============================] - 1s 3ms/step - loss: -1127684112384.0000 - accuracy: 0.0000e+00 - val_loss: -1110871375872.0000 - val_accuracy: 0.0000e+00\n",
      "Epoch 98/250\n",
      "292/292 [==============================] - 1s 3ms/step - loss: -1158733758464.0000 - accuracy: 0.0000e+00 - val_loss: -1141314158592.0000 - val_accuracy: 0.0000e+00\n",
      "Epoch 99/250\n",
      "292/292 [==============================] - 1s 3ms/step - loss: -1190331416576.0000 - accuracy: 0.0000e+00 - val_loss: -1172282146816.0000 - val_accuracy: 0.0000e+00\n",
      "Epoch 100/250\n",
      "292/292 [==============================] - 1s 3ms/step - loss: -1222482329600.0000 - accuracy: 0.0000e+00 - val_loss: -1203802603520.0000 - val_accuracy: 0.0000e+00\n",
      "Epoch 101/250\n",
      "292/292 [==============================] - 1s 3ms/step - loss: -1255189250048.0000 - accuracy: 0.0000e+00 - val_loss: -1235853770752.0000 - val_accuracy: 0.0000e+00\n",
      "Epoch 102/250\n",
      "292/292 [==============================] - 1s 3ms/step - loss: -1288459649024.0000 - accuracy: 0.0000e+00 - val_loss: -1268454785024.0000 - val_accuracy: 0.0000e+00\n",
      "Epoch 103/250\n",
      "292/292 [==============================] - 1s 3ms/step - loss: -1322291560448.0000 - accuracy: 0.0000e+00 - val_loss: -1301614428160.0000 - val_accuracy: 0.0000e+00\n",
      "Epoch 104/250\n",
      "292/292 [==============================] - 1s 3ms/step - loss: -1356694552576.0000 - accuracy: 0.0000e+00 - val_loss: -1335329030144.0000 - val_accuracy: 0.0000e+00\n",
      "Epoch 105/250\n",
      "292/292 [==============================] - 1s 3ms/step - loss: -1391674130432.0000 - accuracy: 0.0000e+00 - val_loss: -1369599246336.0000 - val_accuracy: 0.0000e+00\n",
      "Epoch 106/250\n",
      "292/292 [==============================] - 1s 3ms/step - loss: -1427231342592.0000 - accuracy: 0.0000e+00 - val_loss: -1404429926400.0000 - val_accuracy: 0.0000e+00\n",
      "Epoch 107/250\n",
      "292/292 [==============================] - 1s 3ms/step - loss: -1463372349440.0000 - accuracy: 0.0000e+00 - val_loss: -1439840993280.0000 - val_accuracy: 0.0000e+00\n",
      "Epoch 108/250\n",
      "292/292 [==============================] - 1s 3ms/step - loss: -1500101083136.0000 - accuracy: 0.0000e+00 - val_loss: -1475818553344.0000 - val_accuracy: 0.0000e+00\n",
      "Epoch 109/250\n",
      "292/292 [==============================] - 1s 3ms/step - loss: -1537424621568.0000 - accuracy: 0.0000e+00 - val_loss: -1512371781632.0000 - val_accuracy: 0.0000e+00\n",
      "Epoch 110/250\n",
      "292/292 [==============================] - 1s 3ms/step - loss: -1575344013312.0000 - accuracy: 0.0000e+00 - val_loss: -1549518372864.0000 - val_accuracy: 0.0000e+00\n",
      "Epoch 111/250\n",
      "292/292 [==============================] - 1s 3ms/step - loss: -1613860700160.0000 - accuracy: 0.0000e+00 - val_loss: -1587249020928.0000 - val_accuracy: 0.0000e+00\n",
      "Epoch 112/250\n",
      "292/292 [==============================] - 1s 3ms/step - loss: -1652985298944.0000 - accuracy: 0.0000e+00 - val_loss: -1625558614016.0000 - val_accuracy: 0.0000e+00\n",
      "Epoch 113/250\n",
      "292/292 [==============================] - 1s 3ms/step - loss: -1692716236800.0000 - accuracy: 0.0000e+00 - val_loss: -1664467861504.0000 - val_accuracy: 0.0000e+00\n",
      "Epoch 114/250\n",
      "292/292 [==============================] - 1s 3ms/step - loss: -1733067800576.0000 - accuracy: 0.0000e+00 - val_loss: -1703972700160.0000 - val_accuracy: 0.0000e+00\n",
      "Epoch 115/250\n",
      "292/292 [==============================] - 1s 3ms/step - loss: -1774041694208.0000 - accuracy: 0.0000e+00 - val_loss: -1744102227968.0000 - val_accuracy: 0.0000e+00\n",
      "Epoch 116/250\n",
      "292/292 [==============================] - 1s 3ms/step - loss: -1815637000192.0000 - accuracy: 0.0000e+00 - val_loss: -1784827346944.0000 - val_accuracy: 0.0000e+00\n",
      "Epoch 117/250\n",
      "292/292 [==============================] - 1s 3ms/step - loss: -1857856733184.0000 - accuracy: 0.0000e+00 - val_loss: -1826162212864.0000 - val_accuracy: 0.0000e+00\n",
      "Epoch 118/250\n",
      "292/292 [==============================] - 1s 3ms/step - loss: -1900710723584.0000 - accuracy: 0.0000e+00 - val_loss: -1868101451776.0000 - val_accuracy: 0.0000e+00\n",
      "Epoch 119/250\n",
      "292/292 [==============================] - 1s 4ms/step - loss: -1944198840320.0000 - accuracy: 0.0000e+00 - val_loss: -1910688972800.0000 - val_accuracy: 0.0000e+00\n",
      "Epoch 120/250\n",
      "292/292 [==============================] - 1s 4ms/step - loss: -1988330389504.0000 - accuracy: 0.0000e+00 - val_loss: -1953875623936.0000 - val_accuracy: 0.0000e+00\n",
      "Epoch 121/250\n",
      "292/292 [==============================] - 1s 4ms/step - loss: -2033108779008.0000 - accuracy: 0.0000e+00 - val_loss: -1997717897216.0000 - val_accuracy: 0.0000e+00\n",
      "Epoch 122/250\n",
      "292/292 [==============================] - 1s 4ms/step - loss: -2078538727424.0000 - accuracy: 0.0000e+00 - val_loss: -2042173849600.0000 - val_accuracy: 0.0000e+00\n",
      "Epoch 123/250\n",
      "292/292 [==============================] - 1s 4ms/step - loss: -2124619448320.0000 - accuracy: 0.0000e+00 - val_loss: -2087280574464.0000 - val_accuracy: 0.0000e+00\n",
      "Epoch 124/250\n",
      "292/292 [==============================] - 1s 4ms/step - loss: -2171361951744.0000 - accuracy: 0.0000e+00 - val_loss: -2133024964608.0000 - val_accuracy: 0.0000e+00\n",
      "Epoch 125/250\n",
      "292/292 [==============================] - 1s 4ms/step - loss: -2218770563072.0000 - accuracy: 0.0000e+00 - val_loss: -2179419209728.0000 - val_accuracy: 0.0000e+00\n",
      "Epoch 126/250\n",
      "292/292 [==============================] - 1s 4ms/step - loss: -2266842005504.0000 - accuracy: 0.0000e+00 - val_loss: -2226463965184.0000 - val_accuracy: 0.0000e+00\n",
      "Epoch 127/250\n",
      "292/292 [==============================] - 1s 3ms/step - loss: -2315589255168.0000 - accuracy: 0.0000e+00 - val_loss: -2274156609536.0000 - val_accuracy: 0.0000e+00\n",
      "Epoch 128/250\n",
      "292/292 [==============================] - 1s 3ms/step - loss: -2365015457792.0000 - accuracy: 0.0000e+00 - val_loss: -2322518507520.0000 - val_accuracy: 0.0000e+00\n",
      "Epoch 129/250\n",
      "292/292 [==============================] - 1s 3ms/step - loss: -2415124283392.0000 - accuracy: 0.0000e+00 - val_loss: -2371541794816.0000 - val_accuracy: 0.0000e+00\n",
      "Epoch 130/250\n",
      "292/292 [==============================] - 1s 3ms/step - loss: -2465910751232.0000 - accuracy: 0.0000e+00 - val_loss: -2421235646464.0000 - val_accuracy: 0.0000e+00\n",
      "Epoch 131/250\n",
      "292/292 [==============================] - 1s 3ms/step - loss: -2517390589952.0000 - accuracy: 0.0000e+00 - val_loss: -2471605567488.0000 - val_accuracy: 0.0000e+00\n",
      "Epoch 132/250\n",
      "292/292 [==============================] - 1s 3ms/step - loss: -2569569042432.0000 - accuracy: 0.0000e+00 - val_loss: -2522638450688.0000 - val_accuracy: 0.0000e+00\n",
      "Epoch 133/250\n",
      "292/292 [==============================] - 1s 3ms/step - loss: -2622441914368.0000 - accuracy: 0.0000e+00 - val_loss: -2574366015488.0000 - val_accuracy: 0.0000e+00\n",
      "Epoch 134/250\n",
      "292/292 [==============================] - 1s 3ms/step - loss: -2676022837248.0000 - accuracy: 0.0000e+00 - val_loss: -2626781708288.0000 - val_accuracy: 0.0000e+00\n",
      "Epoch 135/250\n",
      "292/292 [==============================] - 1s 3ms/step - loss: -2730313908224.0000 - accuracy: 0.0000e+00 - val_loss: -2679880548352.0000 - val_accuracy: 0.0000e+00\n",
      "Epoch 136/250\n",
      "292/292 [==============================] - 1s 3ms/step - loss: -2785311719424.0000 - accuracy: 0.0000e+00 - val_loss: -2733678788608.0000 - val_accuracy: 0.0000e+00\n",
      "Epoch 137/250\n",
      "292/292 [==============================] - 1s 3ms/step - loss: -2841026232320.0000 - accuracy: 0.0000e+00 - val_loss: -2788165419008.0000 - val_accuracy: 0.0000e+00\n",
      "Epoch 138/250\n",
      "292/292 [==============================] - 1s 3ms/step - loss: -2897461379072.0000 - accuracy: 0.0000e+00 - val_loss: -2843364818944.0000 - val_accuracy: 0.0000e+00\n",
      "Epoch 139/250\n",
      "292/292 [==============================] - 1s 3ms/step - loss: -2954623451136.0000 - accuracy: 0.0000e+00 - val_loss: -2899262570496.0000 - val_accuracy: 0.0000e+00\n",
      "Epoch 140/250\n",
      "292/292 [==============================] - 1s 3ms/step - loss: -3012518215680.0000 - accuracy: 0.0000e+00 - val_loss: -2955875713024.0000 - val_accuracy: 0.0000e+00\n",
      "Epoch 141/250\n",
      "292/292 [==============================] - 1s 3ms/step - loss: -3071148818432.0000 - accuracy: 0.0000e+00 - val_loss: -3013218402304.0000 - val_accuracy: 0.0000e+00\n",
      "Epoch 142/250\n",
      "292/292 [==============================] - 1s 3ms/step - loss: -3130519977984.0000 - accuracy: 0.0000e+00 - val_loss: -3071267831808.0000 - val_accuracy: 0.0000e+00\n",
      "Epoch 143/250\n",
      "292/292 [==============================] - 1s 3ms/step - loss: -3190639820800.0000 - accuracy: 0.0000e+00 - val_loss: -3130066206720.0000 - val_accuracy: 0.0000e+00\n",
      "Epoch 144/250\n",
      "292/292 [==============================] - 1s 3ms/step - loss: -3251497861120.0000 - accuracy: 0.0000e+00 - val_loss: -3189560836096.0000 - val_accuracy: 0.0000e+00\n",
      "Epoch 145/250\n",
      "292/292 [==============================] - 1s 3ms/step - loss: -3313100652544.0000 - accuracy: 0.0000e+00 - val_loss: -3249795760128.0000 - val_accuracy: 0.0000e+00\n",
      "Epoch 146/250\n",
      "292/292 [==============================] - 1s 3ms/step - loss: -3375474409472.0000 - accuracy: 0.0000e+00 - val_loss: -3310769143808.0000 - val_accuracy: 0.0000e+00\n",
      "Epoch 147/250\n",
      "292/292 [==============================] - 1s 3ms/step - loss: -3438605500416.0000 - accuracy: 0.0000e+00 - val_loss: -3372495405056.0000 - val_accuracy: 0.0000e+00\n",
      "Epoch 148/250\n",
      "292/292 [==============================] - 1s 3ms/step - loss: -3502502051840.0000 - accuracy: 0.0000e+00 - val_loss: -3434949902336.0000 - val_accuracy: 0.0000e+00\n",
      "Epoch 149/250\n",
      "292/292 [==============================] - 1s 3ms/step - loss: -3567164325888.0000 - accuracy: 0.0000e+00 - val_loss: -3498181394432.0000 - val_accuracy: 0.0000e+00\n",
      "Epoch 150/250\n",
      "292/292 [==============================] - 1s 3ms/step - loss: -3632602021888.0000 - accuracy: 0.0000e+00 - val_loss: -3562147414016.0000 - val_accuracy: 0.0000e+00\n",
      "Epoch 151/250\n",
      "292/292 [==============================] - 1s 3ms/step - loss: -3698819334144.0000 - accuracy: 0.0000e+00 - val_loss: -3626866835456.0000 - val_accuracy: 0.0000e+00\n",
      "Epoch 152/250\n",
      "292/292 [==============================] - 1s 3ms/step - loss: -3765821767680.0000 - accuracy: 0.0000e+00 - val_loss: -3692359057408.0000 - val_accuracy: 0.0000e+00\n",
      "Epoch 153/250\n",
      "292/292 [==============================] - 1s 3ms/step - loss: -3833617711104.0000 - accuracy: 0.0000e+00 - val_loss: -3758635614208.0000 - val_accuracy: 0.0000e+00\n",
      "Epoch 154/250\n",
      "292/292 [==============================] - 1s 3ms/step - loss: -3902202970112.0000 - accuracy: 0.0000e+00 - val_loss: -3825661378560.0000 - val_accuracy: 0.0000e+00\n",
      "Epoch 155/250\n",
      "292/292 [==============================] - 1s 3ms/step - loss: -3971588554752.0000 - accuracy: 0.0000e+00 - val_loss: -3893477244928.0000 - val_accuracy: 0.0000e+00\n",
      "Epoch 156/250\n",
      "292/292 [==============================] - 1s 2ms/step - loss: -4041766862848.0000 - accuracy: 0.0000e+00 - val_loss: -3962080329728.0000 - val_accuracy: 0.0000e+00\n",
      "Epoch 157/250\n",
      "292/292 [==============================] - 1s 3ms/step - loss: -4112752050176.0000 - accuracy: 0.0000e+00 - val_loss: -4031439175680.0000 - val_accuracy: 0.0000e+00\n",
      "Epoch 158/250\n",
      "292/292 [==============================] - 1s 3ms/step - loss: -4184545951744.0000 - accuracy: 0.0000e+00 - val_loss: -4101602017280.0000 - val_accuracy: 0.0000e+00\n",
      "Epoch 159/250\n",
      "292/292 [==============================] - 1s 3ms/step - loss: -4257151188992.0000 - accuracy: 0.0000e+00 - val_loss: -4172572786688.0000 - val_accuracy: 0.0000e+00\n",
      "Epoch 160/250\n",
      "292/292 [==============================] - 1s 3ms/step - loss: -4330579034112.0000 - accuracy: 0.0000e+00 - val_loss: -4244315308032.0000 - val_accuracy: 0.0000e+00\n",
      "Epoch 161/250\n",
      "292/292 [==============================] - 1s 3ms/step - loss: -4404832370688.0000 - accuracy: 0.0000e+00 - val_loss: -4316868116480.0000 - val_accuracy: 0.0000e+00\n",
      "Epoch 162/250\n",
      "292/292 [==============================] - 1s 3ms/step - loss: -4479917752320.0000 - accuracy: 0.0000e+00 - val_loss: -4390241435648.0000 - val_accuracy: 0.0000e+00\n",
      "Epoch 163/250\n",
      "292/292 [==============================] - 1s 3ms/step - loss: -4555830984704.0000 - accuracy: 0.0000e+00 - val_loss: -4464423993344.0000 - val_accuracy: 0.0000e+00\n",
      "Epoch 164/250\n",
      "292/292 [==============================] - 1s 3ms/step - loss: -4632583077888.0000 - accuracy: 0.0000e+00 - val_loss: -4539407138816.0000 - val_accuracy: 0.0000e+00\n",
      "Epoch 165/250\n",
      "292/292 [==============================] - 1s 3ms/step - loss: -4710169837568.0000 - accuracy: 0.0000e+00 - val_loss: -4615220756480.0000 - val_accuracy: 0.0000e+00\n",
      "Epoch 166/250\n",
      "292/292 [==============================] - 1s 3ms/step - loss: -4788603322368.0000 - accuracy: 0.0000e+00 - val_loss: -4691838107648.0000 - val_accuracy: 0.0000e+00\n",
      "Epoch 167/250\n",
      "292/292 [==============================] - 1s 3ms/step - loss: -4867894018048.0000 - accuracy: 0.0000e+00 - val_loss: -4769306902528.0000 - val_accuracy: 0.0000e+00\n",
      "Epoch 168/250\n",
      "292/292 [==============================] - 1s 3ms/step - loss: -4948037730304.0000 - accuracy: 0.0000e+00 - val_loss: -4847614558208.0000 - val_accuracy: 0.0000e+00\n",
      "Epoch 169/250\n",
      "292/292 [==============================] - 1s 3ms/step - loss: -5029030264832.0000 - accuracy: 0.0000e+00 - val_loss: -4926740103168.0000 - val_accuracy: 0.0000e+00\n",
      "Epoch 170/250\n",
      "292/292 [==============================] - 1s 3ms/step - loss: -5110887350272.0000 - accuracy: 0.0000e+00 - val_loss: -5006710276096.0000 - val_accuracy: 0.0000e+00\n",
      "Epoch 171/250\n",
      "292/292 [==============================] - 1s 3ms/step - loss: -5193610035200.0000 - accuracy: 0.0000e+00 - val_loss: -5087503581184.0000 - val_accuracy: 0.0000e+00\n",
      "Epoch 172/250\n",
      "292/292 [==============================] - 1s 3ms/step - loss: -5277211951104.0000 - accuracy: 0.0000e+00 - val_loss: -5169198661632.0000 - val_accuracy: 0.0000e+00\n",
      "Epoch 173/250\n",
      "292/292 [==============================] - 1s 3ms/step - loss: -5361694670848.0000 - accuracy: 0.0000e+00 - val_loss: -5251707961344.0000 - val_accuracy: 0.0000e+00\n",
      "Epoch 174/250\n",
      "292/292 [==============================] - 1s 3ms/step - loss: -5447052951552.0000 - accuracy: 0.0000e+00 - val_loss: -5335078141952.0000 - val_accuracy: 0.0000e+00\n",
      "Epoch 175/250\n",
      "292/292 [==============================] - 1s 3ms/step - loss: -5533289414656.0000 - accuracy: 0.0000e+00 - val_loss: -5419312873472.0000 - val_accuracy: 0.0000e+00\n",
      "Epoch 176/250\n",
      "292/292 [==============================] - 1s 3ms/step - loss: -5620421361664.0000 - accuracy: 0.0000e+00 - val_loss: -5504409534464.0000 - val_accuracy: 0.0000e+00\n",
      "Epoch 177/250\n",
      "292/292 [==============================] - 1s 4ms/step - loss: -5708429393920.0000 - accuracy: 0.0000e+00 - val_loss: -5590395387904.0000 - val_accuracy: 0.0000e+00\n",
      "Epoch 178/250\n",
      "292/292 [==============================] - 1s 5ms/step - loss: -5797341822976.0000 - accuracy: 0.0000e+00 - val_loss: -5677229015040.0000 - val_accuracy: 0.0000e+00\n",
      "Epoch 179/250\n",
      "292/292 [==============================] - 1s 4ms/step - loss: -5887164940288.0000 - accuracy: 0.0000e+00 - val_loss: -5764937678848.0000 - val_accuracy: 0.0000e+00\n",
      "Epoch 180/250\n",
      "292/292 [==============================] - 1s 3ms/step - loss: -5977908183040.0000 - accuracy: 0.0000e+00 - val_loss: -5853579051008.0000 - val_accuracy: 0.0000e+00\n",
      "Epoch 181/250\n",
      "292/292 [==============================] - 1s 3ms/step - loss: -6069568405504.0000 - accuracy: 0.0000e+00 - val_loss: -5943088644096.0000 - val_accuracy: 0.0000e+00\n",
      "Epoch 182/250\n",
      "292/292 [==============================] - 1s 3ms/step - loss: -6162142986240.0000 - accuracy: 0.0000e+00 - val_loss: -6033499488256.0000 - val_accuracy: 0.0000e+00\n",
      "Epoch 183/250\n",
      "292/292 [==============================] - 1s 3ms/step - loss: -6255634022400.0000 - accuracy: 0.0000e+00 - val_loss: -6124811059200.0000 - val_accuracy: 0.0000e+00\n",
      "Epoch 184/250\n",
      "292/292 [==============================] - 1s 3ms/step - loss: -6350039416832.0000 - accuracy: 0.0000e+00 - val_loss: -6216989278208.0000 - val_accuracy: 0.0000e+00\n",
      "Epoch 185/250\n",
      "292/292 [==============================] - 1s 3ms/step - loss: -6445377519616.0000 - accuracy: 0.0000e+00 - val_loss: -6310097584128.0000 - val_accuracy: 0.0000e+00\n",
      "Epoch 186/250\n",
      "292/292 [==============================] - 1s 3ms/step - loss: -6541645709312.0000 - accuracy: 0.0000e+00 - val_loss: -6404105043968.0000 - val_accuracy: 0.0000e+00\n",
      "Epoch 187/250\n",
      "292/292 [==============================] - 1s 3ms/step - loss: -6638858141696.0000 - accuracy: 0.0000e+00 - val_loss: -6499002220544.0000 - val_accuracy: 0.0000e+00\n",
      "Epoch 188/250\n",
      "292/292 [==============================] - 1s 3ms/step - loss: -6736998039552.0000 - accuracy: 0.0000e+00 - val_loss: -6594868281344.0000 - val_accuracy: 0.0000e+00\n",
      "Epoch 189/250\n",
      "292/292 [==============================] - 1s 3ms/step - loss: -6836088471552.0000 - accuracy: 0.0000e+00 - val_loss: -6691620388864.0000 - val_accuracy: 0.0000e+00\n",
      "Epoch 190/250\n",
      "292/292 [==============================] - 1s 3ms/step - loss: -6936132059136.0000 - accuracy: 0.0000e+00 - val_loss: -6789281611776.0000 - val_accuracy: 0.0000e+00\n",
      "Epoch 191/250\n",
      "292/292 [==============================] - 1s 3ms/step - loss: -7037121986560.0000 - accuracy: 0.0000e+00 - val_loss: -6887882358784.0000 - val_accuracy: 0.0000e+00\n",
      "Epoch 192/250\n",
      "292/292 [==============================] - 1s 3ms/step - loss: -7139081846784.0000 - accuracy: 0.0000e+00 - val_loss: -6987439407104.0000 - val_accuracy: 0.0000e+00\n",
      "Epoch 193/250\n",
      "292/292 [==============================] - 1s 3ms/step - loss: -7242001678336.0000 - accuracy: 0.0000e+00 - val_loss: -7087931260928.0000 - val_accuracy: 0.0000e+00\n",
      "Epoch 194/250\n",
      "292/292 [==============================] - 1s 3ms/step - loss: -7345894064128.0000 - accuracy: 0.0000e+00 - val_loss: -7189355823104.0000 - val_accuracy: 0.0000e+00\n",
      "Epoch 195/250\n",
      "292/292 [==============================] - 1s 3ms/step - loss: -7450754285568.0000 - accuracy: 0.0000e+00 - val_loss: -7291750842368.0000 - val_accuracy: 0.0000e+00\n",
      "Epoch 196/250\n",
      "292/292 [==============================] - 1s 3ms/step - loss: -7556593876992.0000 - accuracy: 0.0000e+00 - val_loss: -7395062317056.0000 - val_accuracy: 0.0000e+00\n",
      "Epoch 197/250\n",
      "292/292 [==============================] - 1s 3ms/step - loss: -7663439577088.0000 - accuracy: 0.0000e+00 - val_loss: -7499384094720.0000 - val_accuracy: 0.0000e+00\n",
      "Epoch 198/250\n",
      "292/292 [==============================] - 1s 3ms/step - loss: -7771267268608.0000 - accuracy: 0.0000e+00 - val_loss: -7604622852096.0000 - val_accuracy: 0.0000e+00\n",
      "Epoch 199/250\n",
      "292/292 [==============================] - 1s 3ms/step - loss: -7880059125760.0000 - accuracy: 0.0000e+00 - val_loss: -7710847270912.0000 - val_accuracy: 0.0000e+00\n",
      "Epoch 200/250\n",
      "292/292 [==============================] - 1s 3ms/step - loss: -7989848178688.0000 - accuracy: 0.0000e+00 - val_loss: -7817978183680.0000 - val_accuracy: 0.0000e+00\n",
      "Epoch 201/250\n",
      "292/292 [==============================] - 1s 3ms/step - loss: -8100641767424.0000 - accuracy: 0.0000e+00 - val_loss: -7926184411136.0000 - val_accuracy: 0.0000e+00\n",
      "Epoch 202/250\n",
      "292/292 [==============================] - 1s 3ms/step - loss: -8212444086272.0000 - accuracy: 0.0000e+00 - val_loss: -8035285073920.0000 - val_accuracy: 0.0000e+00\n",
      "Epoch 203/250\n",
      "292/292 [==============================] - 1s 3ms/step - loss: -8325242552320.0000 - accuracy: 0.0000e+00 - val_loss: -8145404428288.0000 - val_accuracy: 0.0000e+00\n",
      "Epoch 204/250\n",
      "292/292 [==============================] - 1s 3ms/step - loss: -8439061807104.0000 - accuracy: 0.0000e+00 - val_loss: -8256498434048.0000 - val_accuracy: 0.0000e+00\n",
      "Epoch 205/250\n",
      "292/292 [==============================] - 1s 4ms/step - loss: -8553884024832.0000 - accuracy: 0.0000e+00 - val_loss: -8368564469760.0000 - val_accuracy: 0.0000e+00\n",
      "Epoch 206/250\n",
      "292/292 [==============================] - 1s 3ms/step - loss: -8669724934144.0000 - accuracy: 0.0000e+00 - val_loss: -8481652867072.0000 - val_accuracy: 0.0000e+00\n",
      "Epoch 207/250\n",
      "292/292 [==============================] - 1s 3ms/step - loss: -8786596593664.0000 - accuracy: 0.0000e+00 - val_loss: -8595710148608.0000 - val_accuracy: 0.0000e+00\n",
      "Epoch 208/250\n",
      "292/292 [==============================] - 1s 3ms/step - loss: -8904503197696.0000 - accuracy: 0.0000e+00 - val_loss: -8710793461760.0000 - val_accuracy: 0.0000e+00\n",
      "Epoch 209/250\n",
      "292/292 [==============================] - 1s 3ms/step - loss: -9023459950592.0000 - accuracy: 0.0000e+00 - val_loss: -8826910670848.0000 - val_accuracy: 0.0000e+00\n",
      "Epoch 210/250\n",
      "292/292 [==============================] - 1s 3ms/step - loss: -9143443259392.0000 - accuracy: 0.0000e+00 - val_loss: -8944007249920.0000 - val_accuracy: 0.0000e+00\n",
      "Epoch 211/250\n",
      "292/292 [==============================] - 1s 3ms/step - loss: -9264503455744.0000 - accuracy: 0.0000e+00 - val_loss: -9062144016384.0000 - val_accuracy: 0.0000e+00\n",
      "Epoch 212/250\n",
      "292/292 [==============================] - 1s 3ms/step - loss: -9386583916544.0000 - accuracy: 0.0000e+00 - val_loss: -9181316775936.0000 - val_accuracy: 0.0000e+00\n",
      "Epoch 213/250\n",
      "292/292 [==============================] - 1s 3ms/step - loss: -9509724487680.0000 - accuracy: 0.0000e+00 - val_loss: -9301434302464.0000 - val_accuracy: 0.0000e+00\n",
      "Epoch 214/250\n",
      "292/292 [==============================] - 1s 3ms/step - loss: -9633889517568.0000 - accuracy: 0.0000e+00 - val_loss: -9422649688064.0000 - val_accuracy: 0.0000e+00\n",
      "Epoch 215/250\n",
      "292/292 [==============================] - 1s 3ms/step - loss: -9759127240704.0000 - accuracy: 0.0000e+00 - val_loss: -9544857026560.0000 - val_accuracy: 0.0000e+00\n",
      "Epoch 216/250\n",
      "292/292 [==============================] - 1s 3ms/step - loss: -9885420879872.0000 - accuracy: 0.0000e+00 - val_loss: -9668100358144.0000 - val_accuracy: 0.0000e+00\n",
      "Epoch 217/250\n",
      "292/292 [==============================] - 1s 3ms/step - loss: -10012797698048.0000 - accuracy: 0.0000e+00 - val_loss: -9792410091520.0000 - val_accuracy: 0.0000e+00\n",
      "Epoch 218/250\n",
      "292/292 [==============================] - 1s 3ms/step - loss: -10141247209472.0000 - accuracy: 0.0000e+00 - val_loss: -9917758963712.0000 - val_accuracy: 0.0000e+00\n",
      "Epoch 219/250\n",
      "292/292 [==============================] - 1s 3ms/step - loss: -10270783045632.0000 - accuracy: 0.0000e+00 - val_loss: -10044186820608.0000 - val_accuracy: 0.0000e+00\n",
      "Epoch 220/250\n",
      "292/292 [==============================] - 1s 4ms/step - loss: -10401404157952.0000 - accuracy: 0.0000e+00 - val_loss: -10171604533248.0000 - val_accuracy: 0.0000e+00\n",
      "Epoch 221/250\n",
      "292/292 [==============================] - 1s 4ms/step - loss: -10533091672064.0000 - accuracy: 0.0000e+00 - val_loss: -10300110667776.0000 - val_accuracy: 0.0000e+00\n",
      "Epoch 222/250\n",
      "292/292 [==============================] - 1s 4ms/step - loss: -10665867608064.0000 - accuracy: 0.0000e+00 - val_loss: -10429691592704.0000 - val_accuracy: 0.0000e+00\n",
      "Epoch 223/250\n",
      "292/292 [==============================] - 1s 3ms/step - loss: -10799734063104.0000 - accuracy: 0.0000e+00 - val_loss: -10560350453760.0000 - val_accuracy: 0.0000e+00\n",
      "Epoch 224/250\n",
      "292/292 [==============================] - 1s 3ms/step - loss: -10934731931648.0000 - accuracy: 0.0000e+00 - val_loss: -10692063133696.0000 - val_accuracy: 0.0000e+00\n",
      "Epoch 225/250\n",
      "292/292 [==============================] - 1s 3ms/step - loss: -11070815076352.0000 - accuracy: 0.0000e+00 - val_loss: -10824832778240.0000 - val_accuracy: 0.0000e+00\n",
      "Epoch 226/250\n",
      "292/292 [==============================] - 1s 3ms/step - loss: -11208014954496.0000 - accuracy: 0.0000e+00 - val_loss: -10958692941824.0000 - val_accuracy: 0.0000e+00\n",
      "Epoch 227/250\n",
      "292/292 [==============================] - 1s 4ms/step - loss: -11346358829056.0000 - accuracy: 0.0000e+00 - val_loss: -11093674033152.0000 - val_accuracy: 0.0000e+00\n",
      "Epoch 228/250\n",
      "292/292 [==============================] - 1s 3ms/step - loss: -11485817339904.0000 - accuracy: 0.0000e+00 - val_loss: -11229709991936.0000 - val_accuracy: 0.0000e+00\n",
      "Epoch 229/250\n",
      "292/292 [==============================] - 1s 3ms/step - loss: -11626380001280.0000 - accuracy: 0.0000e+00 - val_loss: -11366887849984.0000 - val_accuracy: 0.0000e+00\n",
      "Epoch 230/250\n",
      "292/292 [==============================] - 1s 4ms/step - loss: -11768063590400.0000 - accuracy: 0.0000e+00 - val_loss: -11505099603968.0000 - val_accuracy: 0.0000e+00\n",
      "Epoch 231/250\n",
      "292/292 [==============================] - 1s 3ms/step - loss: -11910847135744.0000 - accuracy: 0.0000e+00 - val_loss: -11644375662592.0000 - val_accuracy: 0.0000e+00\n",
      "Epoch 232/250\n",
      "292/292 [==============================] - 1s 3ms/step - loss: -12054789357568.0000 - accuracy: 0.0000e+00 - val_loss: -11784826126336.0000 - val_accuracy: 0.0000e+00\n",
      "Epoch 233/250\n",
      "292/292 [==============================] - 1s 4ms/step - loss: -12199867187200.0000 - accuracy: 0.0000e+00 - val_loss: -11926394372096.0000 - val_accuracy: 0.0000e+00\n",
      "Epoch 234/250\n",
      "292/292 [==============================] - 1s 4ms/step - loss: -12346100547584.0000 - accuracy: 0.0000e+00 - val_loss: -12069029019648.0000 - val_accuracy: 0.0000e+00\n",
      "Epoch 235/250\n",
      "292/292 [==============================] - 1s 3ms/step - loss: -12493508313088.0000 - accuracy: 0.0000e+00 - val_loss: -12212818149376.0000 - val_accuracy: 0.0000e+00\n",
      "Epoch 236/250\n",
      "292/292 [==============================] - 1s 3ms/step - loss: -12642035957760.0000 - accuracy: 0.0000e+00 - val_loss: -12357737644032.0000 - val_accuracy: 0.0000e+00\n",
      "Epoch 237/250\n",
      "292/292 [==============================] - 1s 3ms/step - loss: -12791695015936.0000 - accuracy: 0.0000e+00 - val_loss: -12503700471808.0000 - val_accuracy: 0.0000e+00\n",
      "Epoch 238/250\n",
      "292/292 [==============================] - 1s 3ms/step - loss: -12942529527808.0000 - accuracy: 0.0000e+00 - val_loss: -12650846093312.0000 - val_accuracy: 0.0000e+00\n",
      "Epoch 239/250\n",
      "292/292 [==============================] - 1s 3ms/step - loss: -13094566756352.0000 - accuracy: 0.0000e+00 - val_loss: -12799156682752.0000 - val_accuracy: 0.0000e+00\n",
      "Epoch 240/250\n",
      "292/292 [==============================] - 1s 3ms/step - loss: -13247743787008.0000 - accuracy: 0.0000e+00 - val_loss: -12948603928576.0000 - val_accuracy: 0.0000e+00\n",
      "Epoch 241/250\n",
      "292/292 [==============================] - 1s 3ms/step - loss: -13402084737024.0000 - accuracy: 0.0000e+00 - val_loss: -13099133304832.0000 - val_accuracy: 0.0000e+00\n",
      "Epoch 242/250\n",
      "292/292 [==============================] - 1s 4ms/step - loss: -13557565489152.0000 - accuracy: 0.0000e+00 - val_loss: -13250833940480.0000 - val_accuracy: 0.0000e+00\n",
      "Epoch 243/250\n",
      "292/292 [==============================] - 1s 3ms/step - loss: -13714237423616.0000 - accuracy: 0.0000e+00 - val_loss: -13403618803712.0000 - val_accuracy: 0.0000e+00\n",
      "Epoch 244/250\n",
      "292/292 [==============================] - 1s 3ms/step - loss: -13872127803392.0000 - accuracy: 0.0000e+00 - val_loss: -13557642035200.0000 - val_accuracy: 0.0000e+00\n",
      "Epoch 245/250\n",
      "292/292 [==============================] - 1s 4ms/step - loss: -14031246065664.0000 - accuracy: 0.0000e+00 - val_loss: -13712874274816.0000 - val_accuracy: 0.0000e+00\n",
      "Epoch 246/250\n",
      "292/292 [==============================] - 1s 3ms/step - loss: -14191540830208.0000 - accuracy: 0.0000e+00 - val_loss: -13869181304832.0000 - val_accuracy: 0.0000e+00\n",
      "Epoch 247/250\n",
      "292/292 [==============================] - 1s 3ms/step - loss: -14352985882624.0000 - accuracy: 0.0000e+00 - val_loss: -14026673225728.0000 - val_accuracy: 0.0000e+00\n",
      "Epoch 248/250\n",
      "292/292 [==============================] - 1s 3ms/step - loss: -14515651477504.0000 - accuracy: 0.0000e+00 - val_loss: -14185309143040.0000 - val_accuracy: 0.0000e+00\n",
      "Epoch 249/250\n",
      "292/292 [==============================] - 1s 3ms/step - loss: -14679512449024.0000 - accuracy: 0.0000e+00 - val_loss: -14345169797120.0000 - val_accuracy: 0.0000e+00\n",
      "Epoch 250/250\n",
      "292/292 [==============================] - 1s 4ms/step - loss: -14844598157312.0000 - accuracy: 0.0000e+00 - val_loss: -14506183884800.0000 - val_accuracy: 0.0000e+00\n"
     ]
    }
   ],
   "source": [
    "#fit the model\n",
    "history=model.fit(X,y,validation_split=0.03,epochs=250,batch_size=50)"
   ]
  },
  {
   "cell_type": "code",
   "execution_count": 39,
   "id": "fe680aae",
   "metadata": {},
   "outputs": [
    {
     "name": "stdout",
     "output_type": "stream",
     "text": [
      "470/470 [==============================] - 1s 3ms/step - loss: -14915243868160.0000 - accuracy: 0.0000e+00\n"
     ]
    }
   ],
   "source": [
    "scores = model.evaluate(X,y)"
   ]
  },
  {
   "cell_type": "code",
   "execution_count": 40,
   "id": "8ed192e1",
   "metadata": {},
   "outputs": [
    {
     "data": {
      "text/plain": [
       "[-14915243868160.0, 0.0]"
      ]
     },
     "execution_count": 40,
     "metadata": {},
     "output_type": "execute_result"
    }
   ],
   "source": [
    "scores"
   ]
  },
  {
   "cell_type": "code",
   "execution_count": 41,
   "id": "9c7f1dd5",
   "metadata": {},
   "outputs": [
    {
     "data": {
      "text/plain": [
       "dict_keys(['loss', 'accuracy', 'val_loss', 'val_accuracy'])"
      ]
     },
     "execution_count": 41,
     "metadata": {},
     "output_type": "execute_result"
    }
   ],
   "source": [
    "# Visualize training history\n",
    "\n",
    "# list all data in history\n",
    "history.history.keys()"
   ]
  },
  {
   "cell_type": "code",
   "execution_count": 42,
   "id": "b6a9cd28",
   "metadata": {},
   "outputs": [
    {
     "data": {
      "text/plain": [
       "[<matplotlib.lines.Line2D at 0x201a4487490>]"
      ]
     },
     "execution_count": 42,
     "metadata": {},
     "output_type": "execute_result"
    },
    {
     "data": {
      "image/png": "[encoded data removed]",
      "text/plain": [
       "<Figure size 432x288 with 1 Axes>"
      ]
     },
     "metadata": {
      "needs_background": "light"
     },
     "output_type": "display_data"
    }
   ],
   "source": [
    "import matplotlib.pyplot as plt\n",
    "\n",
    "plt.plot(history.history[\"accuracy\"])"
   ]
  },
  {
   "cell_type": "code",
   "execution_count": 43,
   "id": "7f5495df",
   "metadata": {},
   "outputs": [
    {
     "data": {
      "image/png": "[encoded data removed]",
      "text/plain": [
       "<Figure size 432x288 with 1 Axes>"
      ]
     },
     "metadata": {
      "needs_background": "light"
     },
     "output_type": "display_data"
    }
   ],
   "source": [
    "# summarize history for accuracy\n",
    "import matplotlib.pyplot as plt\n",
    "plt.plot(history.history['accuracy'])\n",
    "plt.plot(history.history['val_accuracy'])\n",
    "plt.title('model accuracy')\n",
    "plt.ylabel('accuracy')\n",
    "plt.xlabel('epoch')\n",
    "plt.legend(['train', 'test'], loc='upper left')\n",
    "plt.show()"
   ]
  },
  {
   "cell_type": "code",
   "execution_count": 44,
   "id": "56049903",
   "metadata": {},
   "outputs": [
    {
     "data": {
      "image/png": "[encoded data removed]",
      "text/plain": [
       "<Figure size 432x288 with 1 Axes>"
      ]
     },
     "metadata": {
      "needs_background": "light"
     },
     "output_type": "display_data"
    }
   ],
   "source": [
    "# summarize history for loss\n",
    "plt.plot(history.history['loss'])\n",
    "plt.plot(history.history['val_loss'])\n",
    "plt.title('model loss')\n",
    "plt.ylabel('loss')\n",
    "plt.xlabel('epoch')\n",
    "plt.legend(['train', 'test'], loc='upper left')\n",
    "plt.show()"
   ]
  },
  {
   "cell_type": "code",
   "execution_count": null,
   "id": "ed95dc0a",
   "metadata": {},
   "outputs": [],
   "source": []
  }
 ],
 "metadata": {
  "kernelspec": {
   "display_name": "Python 3 (ipykernel)",
   "language": "python",
   "name": "python3"
  },
  "language_info": {
   "codemirror_mode": {
    "name": "ipython",
    "version": 3
   },
   "file_extension": ".py",
   "mimetype": "text/x-python",
   "name": "python",
   "nbconvert_exporter": "python",
   "pygments_lexer": "ipython3",
   "version": "3.9.12"
  }
 },
 "nbformat": 4,
 "nbformat_minor": 5
}
